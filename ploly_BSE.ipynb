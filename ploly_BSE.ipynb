{
 "cells": [
  {
   "cell_type": "code",
   "execution_count": 1,
   "metadata": {},
   "outputs": [],
   "source": [
    "import plotly.offline as offline       # a number of plotly goodies\n",
    "import plotly.plotly as py\n",
    "import plotly.graph_objs as go\n",
    "from plotly import tools\n",
    "\n",
    "from matplotlib import pyplot as plt\n",
    "import numpy as np\n",
    "import pandas as pd\n",
    "import h5py\n"
   ]
  },
  {
   "cell_type": "code",
   "execution_count": 2,
   "metadata": {},
   "outputs": [
    {
     "name": "stdout",
     "output_type": "stream",
     "text": [
      "8953\n",
      "number of CASINO BSE electrons 8440\n"
     ]
    },
    {
     "data": {
      "image/png": "[encoded data removed]",
      "text/plain": [
       "<Figure size 432x288 with 1 Axes>"
      ]
     },
     "metadata": {
      "needs_background": "light"
     },
     "output_type": "display_data"
    }
   ],
   "source": [
    "file = 'CASINO/E.dat'\n",
    "# regex the backscattered eletron data\n",
    "# sed -n '/'^yes'/,/'---'/p' > BSE_10kV.dat\n",
    "# sed '/^yes/d' BSE_10kV.dat > BSe_10kV_data.dat\n",
    "df = pd.read_csv(file,  sep='\\t', index_col=None, header = None, error_bad_lines=False)\n",
    "#print 'header'\n",
    "energy_CASINO = df.loc[:, 6].values\n",
    "print len(energy_CASINO)\n",
    "print 'number of CASINO BSE electrons', len(energy_CASINO[energy_CASINO>9.01])\n",
    "num_bins = 1000\n",
    "n_C, bins_C, patches_C = plt.hist(energy_CASINO*1000., num_bins, facecolor='green', alpha=0.5)\n",
    "\n",
    "bins_mean = [0.5 * (bins_C[i] + bins_C[i+1]) for i in range(len(n_C))]\n",
    "\n",
    "trace_CASINO = go.Scatter(x = bins_mean, \n",
    "                          y = n_C, \n",
    "                          marker=dict(\n",
    "                               color = 'rgba(127, 201, 127, .9)',),\n",
    "                          name = 'CASINO',)\n",
    "#trace_CASINO = go.Histogram(x=energy_CASINO*1000., \n",
    "#                           name='casino', \n",
    "#                          autobinx = False,\n",
    "#                          marker=dict(\n",
    "#                          color = 'rgba(2, 12, 193, .9)',), \n",
    "#                          xbins =dict(start = 5000., \n",
    "#                                 end = 30000., \n",
    "#                                 size = 1, ),\n",
    "#                           )\n"
   ]
  },
  {
   "cell_type": "code",
   "execution_count": 12,
   "metadata": {},
   "outputs": [
    {
     "name": "stdout",
     "output_type": "stream",
     "text": [
      "number of discretly scattered BSE 17259\n"
     ]
    },
    {
     "ename": "ValueError",
     "evalue": "could not convert string to float: �HDF",
     "output_type": "error",
     "traceback": [
      "\u001b[0;31m---------------------------------------------------------------------------\u001b[0m",
      "\u001b[0;31mValueError\u001b[0m                                Traceback (most recent call last)",
      "\u001b[0;32m<ipython-input-12-bb45c3ce864c>\u001b[0m in \u001b[0;36m<module>\u001b[0;34m()\u001b[0m\n\u001b[1;32m     35\u001b[0m \u001b[0;32mwith\u001b[0m \u001b[0mopen\u001b[0m\u001b[0;34m(\u001b[0m\u001b[0mfile_cont\u001b[0m\u001b[0;34m)\u001b[0m \u001b[0;32mas\u001b[0m \u001b[0mf\u001b[0m\u001b[0;34m:\u001b[0m\u001b[0;34m\u001b[0m\u001b[0m\n\u001b[1;32m     36\u001b[0m     \u001b[0mlines\u001b[0m \u001b[0;34m=\u001b[0m \u001b[0mf\u001b[0m\u001b[0;34m.\u001b[0m\u001b[0mread\u001b[0m\u001b[0;34m(\u001b[0m\u001b[0;34m)\u001b[0m\u001b[0;34m.\u001b[0m\u001b[0msplitlines\u001b[0m\u001b[0;34m(\u001b[0m\u001b[0;34m)\u001b[0m\u001b[0;34m\u001b[0m\u001b[0m\n\u001b[0;32m---> 37\u001b[0;31m \u001b[0mBSE_cont\u001b[0m \u001b[0;34m=\u001b[0m \u001b[0;34m[\u001b[0m\u001b[0mfloat\u001b[0m\u001b[0;34m(\u001b[0m\u001b[0mline\u001b[0m\u001b[0;34m)\u001b[0m \u001b[0;32mfor\u001b[0m \u001b[0mline\u001b[0m \u001b[0;32min\u001b[0m \u001b[0mlines\u001b[0m\u001b[0;34m]\u001b[0m\u001b[0;34m\u001b[0m\u001b[0m\n\u001b[0m\u001b[1;32m     38\u001b[0m \u001b[0;34m\u001b[0m\u001b[0m\n\u001b[1;32m     39\u001b[0m \u001b[0;32mprint\u001b[0m \u001b[0;34m'number of continuously scattered BSE'\u001b[0m\u001b[0;34m,\u001b[0m \u001b[0mlen\u001b[0m\u001b[0;34m(\u001b[0m\u001b[0mBSE_cont\u001b[0m\u001b[0;34m)\u001b[0m\u001b[0;34m\u001b[0m\u001b[0m\n",
      "\u001b[0;31mValueError\u001b[0m: could not convert string to float: �HDF"
     ]
    },
    {
     "data": {
      "image/png": "[encoded data removed]",
      "text/plain": [
       "<Figure size 432x288 with 1 Axes>"
      ]
     },
     "metadata": {
      "needs_background": "light"
     },
     "output_type": "display_data"
    }
   ],
   "source": [
    "file_discr = 'data/BSE_70tilt_ds_MCMLCS.out'\n",
    "\n",
    "BSE_discr = []\n",
    "with open(file_discr) as f:\n",
    "    lines = f.read().splitlines()\n",
    "BSE_discr = [float(line) for line in lines]\n",
    "print 'number of discretly scattered BSE', len(BSE_discr)\n",
    "\n",
    "n_d, bins_d, patches_d = plt.hist(BSE_discr, num_bins, facecolor='blue', alpha=0.5)\n",
    "\n",
    "bins_mean = [0.5 * (bins_d[i] + bins_d[i+1]) for i in range(len(n_d))]\n",
    "\n",
    "trace_discr = go.Scatter(x = bins_mean, \n",
    "                         y = n_d, \n",
    "                        marker=dict(\n",
    "                               color = 'rgba(190, 174, 212 .9)',),\n",
    "                        name = 'discrete',)\n",
    "\n",
    "#trace_discr = go.Histogram(x=BSE_discr, \n",
    "#                          name = 'discrete', \n",
    "#                          autobinx = False,\n",
    "#                          marker=dict(\n",
    "#                         color = 'rgba(2, 182, 193, .9)',), \n",
    "#                          xbins =dict(start = 5000., \n",
    "#                                 end = 30000., \n",
    "#                                 size = 1, ),\n",
    "                          #histnorm='probability'\n",
    "#                          )\n",
    "\n",
    "\n",
    "\n",
    "file_cont = 'data/BSE70tiltcont.out'\n",
    "\n",
    "BSE_cont = []\n",
    "with open(file_cont) as f:\n",
    "    lines = f.read().splitlines()\n",
    "BSE_cont = [float(line) for line in lines]\n",
    "\n",
    "print 'number of continuously scattered BSE', len(BSE_cont)\n",
    "\n",
    "n_c, bins_c, patches_c = plt.hist(BSE_cont, num_bins, facecolor='red', alpha=0.5)\n",
    "\n",
    "bins_mean = [0.5 * (bins_c[i] + bins_c[i+1]) for i in range(len(n_c))]\n",
    "\n",
    "trace_cont = go.Scatter(x = bins_mean, \n",
    "                        y = n_c, \n",
    "                        marker=dict(\n",
    "                               color = 'rgba(253, 192, 134, .9)',),\n",
    "                        name = 'continuous',)\n",
    "                            \n",
    "    \n",
    "#trace_cont = go.Histogram(x=BSE_cont, \n",
    "#                         marker=dict(\n",
    "#                         color = 'rgba(255, 182, 193, .9)',),\n",
    "#                         name = 'continuous', \n",
    "                         #histnorm='probability'\n",
    "#                         )\n",
    "layout_log = go.Layout(\n",
    "        title = '10 keV incident electrons on a 70 degrees tilted Al sample', \n",
    "        font=dict( color='#7f7f7f'),\n",
    "        paper_bgcolor='rgba(0,0,0,0)',\n",
    "        plot_bgcolor='rgba(0,0,0,0)',\n",
    "        yaxis=dict(#type='log',\n",
    "             gridcolor= '#7f7f7f',\n",
    "             title = 'BSE counts per 1 eV bin (#/1 eV)', \n",
    "             zerolinecolor='#969696', \n",
    "             range=[0, 350]   \n",
    "        ), \n",
    "        xaxis=dict(\n",
    "             gridcolor= '#7f7f7f',\n",
    "             title = 'BSE energy (eV)', \n",
    "             zerolinecolor='#969696', \n",
    "             range=[9017, 10000])\n",
    "    )\n",
    "\n",
    "datatrace = [trace_CASINO, trace_discr, trace_cont]\n",
    "fig = go.Figure(data=datatrace, layout=layout_log)\n",
    "py.iplot(fig, filename = 'BSE per 1eV at 75 tilt')"
   ]
  },
  {
   "cell_type": "code",
   "execution_count": 13,
   "metadata": {},
   "outputs": [
    {
     "name": "stdout",
     "output_type": "stream",
     "text": [
      "Keys: ['energy' 'x_dir' 'y_dir' 'z_dir']\n"
     ]
    },
    {
     "ename": "NameError",
     "evalue": "name 'trace_cont' is not defined",
     "output_type": "error",
     "traceback": [
      "\u001b[0;31m---------------------------------------------------------------------------\u001b[0m",
      "\u001b[0;31mNameError\u001b[0m                                 Traceback (most recent call last)",
      "\u001b[0;32m<ipython-input-13-f5a198ffe5a7>\u001b[0m in \u001b[0;36m<module>\u001b[0;34m()\u001b[0m\n\u001b[1;32m     42\u001b[0m     )\n\u001b[1;32m     43\u001b[0m \u001b[0;34m\u001b[0m\u001b[0m\n\u001b[0;32m---> 44\u001b[0;31m \u001b[0mdatatrace\u001b[0m \u001b[0;34m=\u001b[0m \u001b[0;34m[\u001b[0m\u001b[0mtrace_CASINO\u001b[0m\u001b[0;34m,\u001b[0m \u001b[0mtrace_discr\u001b[0m\u001b[0;34m,\u001b[0m \u001b[0mtrace_cont\u001b[0m\u001b[0;34m]\u001b[0m\u001b[0;34m\u001b[0m\u001b[0;34m\u001b[0m\u001b[0m\n\u001b[0m\u001b[1;32m     45\u001b[0m \u001b[0mfig\u001b[0m \u001b[0;34m=\u001b[0m \u001b[0mgo\u001b[0m\u001b[0;34m.\u001b[0m\u001b[0mFigure\u001b[0m\u001b[0;34m(\u001b[0m\u001b[0mdata\u001b[0m\u001b[0;34m=\u001b[0m\u001b[0mdatatrace\u001b[0m\u001b[0;34m,\u001b[0m \u001b[0mlayout\u001b[0m\u001b[0;34m=\u001b[0m\u001b[0mlayout_log\u001b[0m\u001b[0;34m)\u001b[0m\u001b[0;34m\u001b[0m\u001b[0;34m\u001b[0m\u001b[0m\n\u001b[1;32m     46\u001b[0m \u001b[0mpy\u001b[0m\u001b[0;34m.\u001b[0m\u001b[0miplot\u001b[0m\u001b[0;34m(\u001b[0m\u001b[0mfig\u001b[0m\u001b[0;34m,\u001b[0m \u001b[0mfilename\u001b[0m \u001b[0;34m=\u001b[0m \u001b[0;34m'BSE per 1eV at 75 tilt'\u001b[0m\u001b[0;34m)\u001b[0m\u001b[0;34m\u001b[0m\u001b[0;34m\u001b[0m\u001b[0m\n",
      "\u001b[0;31mNameError\u001b[0m: name 'trace_cont' is not defined"
     ]
    },
    {
     "data": {
      "image/png": "[encoded data removed]",
      "text/plain": [
       "<Figure size 432x288 with 1 Axes>"
      ]
     },
     "metadata": {
      "needs_background": "light"
     },
     "output_type": "display_data"
    }
   ],
   "source": [
    "import h5py\n",
    "file_name = 'data/BSE70tiltcont.h5'\n",
    "h5data = h5py.File(file_name,'r+')   \n",
    "print(\"Keys: %s\" % h5data['BSE']['axis1'][:])\n",
    "\n",
    "energycont = h5data['BSE']['block0_values'][0]\n",
    "\n",
    "\n",
    "n_c, bins_c, patches_c = plt.hist(energycont, num_bins, facecolor='red', alpha=0.5)\n",
    "\n",
    "bins_mean = [0.5 * (bins_c[i] + bins_c[i+1]) for i in range(len(n_c))]\n",
    "\n",
    "trace_discr = go.Scatter(x = bins_mean, \n",
    "                        y = n_c, \n",
    "                        marker=dict(\n",
    "                               color = 'rgba(253, 192, 134, .9)',),\n",
    "                        name = 'continuous',)\n",
    "                            \n",
    "    \n",
    "#trace_cont = go.Histogram(x=BSE_cont, \n",
    "#                         marker=dict(\n",
    "#                         color = 'rgba(255, 182, 193, .9)',),\n",
    "#                         name = 'continuous', \n",
    "                         #histnorm='probability'\n",
    "#                         )\n",
    "layout_log = go.Layout(\n",
    "        title = '10 keV incident electrons on a 70 degrees tilted Al sample', \n",
    "        font=dict( color='#7f7f7f'),\n",
    "        paper_bgcolor='rgba(0,0,0,0)',\n",
    "        plot_bgcolor='rgba(0,0,0,0)',\n",
    "        yaxis=dict(#type='log',\n",
    "             gridcolor= '#7f7f7f',\n",
    "             title = 'BSE counts per 1 eV bin (#/1 eV)', \n",
    "             zerolinecolor='#969696', \n",
    "             range=[0, 350]   \n",
    "        ), \n",
    "        xaxis=dict(\n",
    "             gridcolor= '#7f7f7f',\n",
    "             title = 'BSE energy (eV)', \n",
    "             zerolinecolor='#969696', \n",
    "             range=[9017, 10000])\n",
    "    )\n",
    "\n",
    "datatrace = [trace_CASINO, trace_discr, trace_cont]\n",
    "fig = go.Figure(data=datatrace, layout=layout_log)\n",
    "py.iplot(fig, filename = 'BSE per 1eV at 75 tilt')\n",
    "\n",
    "\n",
    "\n",
    "\n",
    "file_name = 'data/BSE70tiltDS.h5'\n",
    "h5data = h5py.File(file_name,'r+')   \n",
    "print(\"Keys: %s\" % h5data['BSE']['axis1'][:])\n",
    "\n",
    "energyDS = h5data['BSE']['block0_values'][0]\n",
    "\n",
    "\n",
    "n_c, bins_c, patches_c = plt.hist(energyDS, num_bins, facecolor='red', alpha=0.5)\n",
    "\n",
    "bins_mean = [0.5 * (bins_c[i] + bins_c[i+1]) for i in range(len(n_c))]\n",
    "\n",
    "trace_cont = go.Scatter(x = bins_mean, \n",
    "                        y = n_c, \n",
    "                        marker=dict(\n",
    "                               color = 'rgba(190, 174, 212 .9)',),\n",
    "                        name = 'discrete',)\n",
    "                            \n",
    "    \n",
    "#trace_cont = go.Histogram(x=BSE_cont, \n",
    "#                         marker=dict(\n",
    "#                         color = 'rgba(255, 182, 193, .9)',),\n",
    "#                         name = 'continuous', \n",
    "                         #histnorm='probability'\n",
    "#                         )\n",
    "layout_log = go.Layout(\n",
    "        title = '10 keV incident electrons on a 70 degrees tilted Al sample', \n",
    "        font=dict( color='#7f7f7f'),\n",
    "        paper_bgcolor='rgba(0,0,0,0)',\n",
    "        plot_bgcolor='rgba(0,0,0,0)',\n",
    "        yaxis=dict(#type='log',\n",
    "             gridcolor= '#7f7f7f',\n",
    "             title = 'BSE counts per 1 eV bin (#/1 eV)', \n",
    "             zerolinecolor='#969696', \n",
    "             range=[0, 350]   \n",
    "        ), \n",
    "        xaxis=dict(\n",
    "             gridcolor= '#7f7f7f',\n",
    "             title = 'BSE energy (eV)', \n",
    "             zerolinecolor='#969696', \n",
    "             range=[9017, 10000])\n",
    "    )\n",
    "\n",
    "datatrace = [trace_CASINO, trace_discr, trace_cont]\n",
    "fig = go.Figure(data=datatrace, layout=layout_log)\n",
    "py.iplot(fig, filename = 'BSE per 1eV at 75 tilt at 30')\n"
   ]
  },
  {
   "cell_type": "code",
   "execution_count": null,
   "metadata": {},
   "outputs": [],
   "source": [
    "BSE70tiltcont.out"
   ]
  },
  {
   "cell_type": "code",
   "execution_count": 5,
   "metadata": {},
   "outputs": [
    {
     "name": "stdout",
     "output_type": "stream",
     "text": [
      "number of discretly scattered BSE 57286\n",
      "number of continuously scattered BSE 40987\n"
     ]
    },
    {
     "data": {
      "text/html": [
       "<iframe id=\"igraph\" scrolling=\"no\" style=\"border:none;\" seamless=\"seamless\" src=\"https://plot.ly/~elena.pascal/2463.embed\" height=\"525px\" width=\"100%\"></iframe>"
      ],
      "text/plain": [
       "<chart_studio.tools.PlotlyDisplay object>"
      ]
     },
     "execution_count": 5,
     "metadata": {},
     "output_type": "execute_result"
    },
    {
     "data": {
      "image/png": "[encoded data removed]",
      "text/plain": [
       "<Figure size 432x288 with 1 Axes>"
      ]
     },
     "metadata": {
      "needs_background": "light"
     },
     "output_type": "display_data"
    }
   ],
   "source": [
    "num_bins = 30\n",
    "\n",
    "# discrete\n",
    "file_discr = 'data/Al_BSE70_tiltDS_Emin15000_Emax30000.h5'\n",
    "\n",
    "h5data_d = h5py.File(file_discr,'r+')   \n",
    "energyDS = h5data_d['BSE']['block0_values'][0]\n",
    "print 'number of discretly scattered BSE', len(energyDS)\n",
    "\n",
    "n_d, bins_d, patches_d = plt.hist(energyDS, num_bins, facecolor='blue', alpha=0.5)\n",
    "\n",
    "bins_mean = [0.5 * (bins_d[i] + bins_d[i+1]) for i in range(len(n_d))]\n",
    "\n",
    "trace_discr = go.Scatter(x = bins_mean, \n",
    "                         y = n_d, \n",
    "                        marker=dict(\n",
    "                               color = 'rgba(190, 174, 212 .9)',),\n",
    "                        name = 'discrete',)\n",
    "\n",
    "\n",
    "# continuous\n",
    "file_cont = 'data/Al_BSE70_tiltcont_Emin15000_Emax30000.h5'\n",
    "\n",
    "h5data_c = h5py.File(file_cont,'r+')   \n",
    "energy_cont = h5data_c['BSE']['block0_values'][0]\n",
    "\n",
    "print 'number of continuously scattered BSE', len(energy_cont)\n",
    "\n",
    "n_c, bins_c, patches_c = plt.hist(energy_cont, num_bins, facecolor='red', alpha=0.5)\n",
    "\n",
    "bins_mean = [0.5 * (bins_c[i] + bins_c[i+1]) for i in range(len(n_c))]\n",
    "\n",
    "trace_cont = go.Scatter(x = bins_mean, \n",
    "                        y = n_c, \n",
    "                        marker=dict(\n",
    "                               color = 'rgba(253, 192, 134, .9)',),\n",
    "                        name = 'continuous',)\n",
    "                            \n",
    "    \n",
    "\n",
    "layout_log = go.Layout(\n",
    "        title = '30 keV incident electrons on a 70 degrees tilted Al sample', \n",
    "        font=dict( color='#7f7f7f'),\n",
    "        paper_bgcolor='rgba(0,0,0,0)',\n",
    "        plot_bgcolor='rgba(0,0,0,0)',\n",
    "        yaxis=dict(#type='log',\n",
    "             gridcolor= '#7f7f7f',\n",
    "             title = 'BSE counts per 5 eV bin (#/5 eV)', \n",
    "             zerolinecolor='#969696', \n",
    "            # range=[0, 350]   \n",
    "        ), \n",
    "        xaxis=dict(\n",
    "             gridcolor= '#7f7f7f',\n",
    "             title = 'BSE energy (eV)', \n",
    "             zerolinecolor='#969696', \n",
    "             #range=[9017, 10000]\n",
    "        )\n",
    "    )\n",
    "\n",
    "datatrace = [trace_discr, trace_cont]\n",
    "fig = go.Figure(data=datatrace, layout=layout_log)\n",
    "py.iplot(fig, filename = '30 keV BSE per 5eV at 70 tilt')"
   ]
  },
  {
   "cell_type": "code",
   "execution_count": 12,
   "metadata": {},
   "outputs": [
    {
     "name": "stdout",
     "output_type": "stream",
     "text": [
      "yield of discretly scattered BSE 0.08474727272727273\n",
      "yield of continuously scattered BSE 0.1244290909090909\n"
     ]
    },
    {
     "data": {
      "text/html": [
       "<iframe id=\"igraph\" scrolling=\"no\" style=\"border:none;\" seamless=\"seamless\" src=\"https://plot.ly/~elena.pascal/2502.embed\" height=\"525px\" width=\"100%\"></iframe>"
      ],
      "text/plain": [
       "<chart_studio.tools.PlotlyDisplay object>"
      ]
     },
     "execution_count": 12,
     "metadata": {},
     "output_type": "execute_result"
    },
    {
     "data": {
      "image/png": "[encoded data removed]",
      "text/plain": [
       "<Figure size 432x288 with 1 Axes>"
      ]
     },
     "metadata": {
      "needs_background": "light"
     },
     "output_type": "display_data"
    }
   ],
   "source": [
    "num_bins = 500\n",
    "inc_e = 550000\n",
    "\n",
    "# discrete\n",
    "all_el = pd.read_hdf('data/Al_BSE_DS_normal.h5', 'all_electrons')\n",
    "energyDS = list(all_el[all_el.values=='backscattered']['energy'])\n",
    "\n",
    "print ('yield of discretly scattered BSE', len(energyDS)/inc_e)\n",
    "\n",
    "n_d, bins_d, patches_d = plt.hist(energyDS, num_bins, facecolor='blue', alpha=0.5)\n",
    "\n",
    "bins_mean = [0.5 * (bins_d[i] + bins_d[i+1]) for i in range(len(n_d)-1)]\n",
    "\n",
    "trace_discr = go.Scatter(x = bins_mean, \n",
    "                         y = n_d, \n",
    "                        marker=dict(\n",
    "                               color = 'rgba(190, 174, 212 .9)',),\n",
    "                        name = 'discrete',)\n",
    "\n",
    "\n",
    "# just Moller\n",
    "# all_el = pd.read_hdf('data/Al_BSE_DS_short_Moller.h5', 'all_electrons')\n",
    "# energyDS = list(all_el[all_el.values=='backscattered']['energy'])\n",
    "\n",
    "# print ('number of Moller scattered BSE', len(energyDS))\n",
    "\n",
    "# n_d, bins_d, patches_d = plt.hist(energyDS, num_bins, facecolor='yellow', alpha=0.5)\n",
    "\n",
    "# bins_mean = [0.5 * (bins_d[i] + bins_d[i+1]) for i in range(len(n_d))]\n",
    "\n",
    "# trace_Moller = go.Scatter(x = bins_mean, \n",
    "#                          y = n_d, \n",
    "#                         marker=dict(\n",
    "#                                color = 'rgba(170, 104, 212 .9)',),\n",
    "#                         name = 'Moller',)\n",
    "\n",
    "\n",
    "# just Gryz\n",
    "# all_el = pd.read_hdf('data/Al_BSE_DS_short_Gryz.h5', 'all_electrons')\n",
    "# energyDS = list(all_el[all_el.values=='backscattered']['energy'])\n",
    "\n",
    "# print ('number of Gryz scattered BSE', len(energyDS))\n",
    "\n",
    "# n_d, bins_d, patches_d = plt.hist(energyDS, num_bins, facecolor='green', alpha=0.5)\n",
    "\n",
    "# bins_mean = [0.5 * (bins_d[i] + bins_d[i+1]) for i in range(len(n_d))]\n",
    "\n",
    "# trace_Gryz = go.Scatter(x = bins_mean, \n",
    "#                          y = n_d, \n",
    "#                         marker=dict(\n",
    "#                                color = 'rgba(150, 104, 212 .9)',),\n",
    "#                         name = 'Gryz',)\n",
    "\n",
    "# just R + Q\n",
    "# all_el = pd.read_hdf('data/Al_BSE_DS_short_R+Q.h5', 'all_electrons')\n",
    "# energyDS = list(all_el[all_el.values=='backscattered']['energy'])\n",
    "\n",
    "# print ('number of R+Q scattered BSE', len(energyDS))\n",
    "\n",
    "# n_d, bins_d, patches_d = plt.hist(energyDS, num_bins, facecolor='green', alpha=0.5)\n",
    "\n",
    "# bins_mean = [0.5 * (bins_d[i] + bins_d[i+1]) for i in range(len(n_d))]\n",
    "\n",
    "# trace_RQ = go.Scatter(x = bins_mean, \n",
    "#                          y = n_d, \n",
    "#                         marker=dict(\n",
    "#                                color = 'rgba(130, 104, 212 .9)',),\n",
    "#                         name = 'R+Q',)\n",
    "\n",
    "\n",
    "\n",
    "\n",
    "# continuous\n",
    "all_el = pd.read_hdf('data/Al_BSE_cont_normal_all.h5', 'all_electrons')\n",
    "energy_cont = list(all_el[all_el.values=='backscattered']['energy'])\n",
    "\n",
    "print ('yield of continuously scattered BSE', len(energy_cont)/inc_e)\n",
    "\n",
    "n_c, bins_c, patches_c = plt.hist(energy_cont, num_bins, facecolor='red', alpha=0.5)\n",
    "\n",
    "bins_mean = [0.5 * (bins_c[i] + bins_c[i+1]) for i in range(len(n_c)-1)]\n",
    "\n",
    "trace_cont = go.Scatter(x = bins_mean, \n",
    "                        y = n_c, \n",
    "                        marker=dict(\n",
    "                               color = 'rgba(253, 192, 134, .9)',),\n",
    "                        name = 'continuous',)\n",
    "                            \n",
    "# continuous *0.1 bethe stopping power\n",
    "# all_el = pd.read_hdf('data/Al_BSE_cont_short_01.h5', 'all_electrons')\n",
    "# energy_cont = list(all_el[all_el.values=='backscattered']['energy'])\n",
    "\n",
    "# print ('number of continuously scattered BSE', len(energy_cont))\n",
    "\n",
    "# n_c, bins_c, patches_c = plt.hist(energy_cont, num_bins, facecolor='red', alpha=0.5)\n",
    "\n",
    "# bins_mean = [0.5 * (bins_c[i] + bins_c[i+1]) for i in range(len(n_c))]\n",
    "\n",
    "# trace_cont01 = go.Scatter(x = bins_mean, \n",
    "#                         y = n_c, \n",
    "#                         marker=dict(\n",
    "#                                color = 'rgba(253, 192, 134, .9)',),\n",
    "#                         name = 'continuous01',)    \n",
    "\n",
    "\n",
    "\n",
    "                            \n",
    "\n",
    "layout_log = go.Layout(\n",
    "        title = '30 keV normally incident electrons on Al sample', \n",
    "        font=dict( color='#7f7f7f'),\n",
    "        paper_bgcolor='rgba(0,0,0,0)',\n",
    "        plot_bgcolor='rgba(0,0,0,0)',\n",
    "        yaxis=dict(#type='log',\n",
    "             gridcolor= '#7f7f7f',\n",
    "             title = 'BSE counts per 5 eV bin (#/5 eV)', \n",
    "             zerolinecolor='#969696', \n",
    "            # range=[0, 350]   \n",
    "        ), \n",
    "        xaxis=dict(\n",
    "             gridcolor= '#7f7f7f',\n",
    "             title = 'BSE energy (eV)', \n",
    "             zerolinecolor='#969696', \n",
    "             #range=[9017, 10000]\n",
    "        )\n",
    "    )\n",
    "\n",
    "datatrace = [trace_discr, trace_cont]\n",
    "fig = go.Figure(data=datatrace, layout=layout_log)\n",
    "py.iplot(fig, filename = 'normal 30 keV all BSE per 5eV ')"
   ]
  },
  {
   "cell_type": "code",
   "execution_count": 7,
   "metadata": {},
   "outputs": [
    {
     "name": "stdout",
     "output_type": "stream",
     "text": [
      "number of discretly scattered BSE 238977\n",
      "number of continuously scattered BSE 126791\n"
     ]
    },
    {
     "data": {
      "text/html": [
       "<iframe id=\"igraph\" scrolling=\"no\" style=\"border:none;\" seamless=\"seamless\" src=\"https://plot.ly/~elena.pascal/2465.embed\" height=\"525px\" width=\"100%\"></iframe>"
      ],
      "text/plain": [
       "<chart_studio.tools.PlotlyDisplay object>"
      ]
     },
     "execution_count": 7,
     "metadata": {},
     "output_type": "execute_result"
    },
    {
     "data": {
      "image/png": "[encoded data removed]",
      "text/plain": [
       "<Figure size 432x288 with 1 Axes>"
      ]
     },
     "metadata": {
      "needs_background": "light"
     },
     "output_type": "display_data"
    }
   ],
   "source": [
    "num_bins = 1000\n",
    "\n",
    "# discrete\n",
    "all_el = pd.read_hdf('data/Al_BSE_DS_short.h5', 'all_electrons')\n",
    "energyDS = list(all_el[all_el.values=='backscattered']['energy'])\n",
    "\n",
    "print ('number of discretly scattered BSE', len(energyDS))\n",
    "\n",
    "n_d, bins_d, patches_d = plt.hist(energyDS, num_bins, facecolor='blue', alpha=0.5)\n",
    "\n",
    "bins_mean = [0.5 * (bins_d[i] + bins_d[i+1]) for i in range(len(n_d)-1)]\n",
    "\n",
    "trace_discr = go.Scatter(x = bins_mean, \n",
    "                         y = n_d, \n",
    "                        marker=dict(\n",
    "                               color = 'rgba(190, 174, 212 .9)',),\n",
    "                        name = 'discrete',)\n",
    "\n",
    "\n",
    "\n",
    "\n",
    "# continuous\n",
    "all_el = pd.read_hdf('data/Al_BSE_cont_short.h5', 'all_electrons')\n",
    "energy_cont = list(all_el[all_el.values=='backscattered']['energy'])\n",
    "\n",
    "print ('number of continuously scattered BSE', len(energy_cont))\n",
    "\n",
    "n_c, bins_c, patches_c = plt.hist(energy_cont, num_bins, facecolor='red', alpha=0.5)\n",
    "\n",
    "bins_mean = [0.5 * (bins_c[i] + bins_c[i+1]) for i in range(len(n_c)-1)]\n",
    "\n",
    "trace_cont = go.Scatter(x = bins_mean, \n",
    "                        y = n_c, \n",
    "                        marker=dict(\n",
    "                               color = 'rgba(253, 192, 134, .9)',),\n",
    "                        name = 'continuous',)\n",
    "                            \n",
    "\n",
    "\n",
    "layout_log = go.Layout(\n",
    "        title = '30 keV incident electrons on a 70 degrees tilted Al sample', \n",
    "        font=dict( color='#7f7f7f'),\n",
    "        paper_bgcolor='rgba(0,0,0,0)',\n",
    "        plot_bgcolor='rgba(0,0,0,0)',\n",
    "        yaxis=dict(#type='log',\n",
    "             gridcolor= '#7f7f7f',\n",
    "             title = 'BSE counts per 5 eV bin (#/5 eV)', \n",
    "             zerolinecolor='#969696', \n",
    "            # range=[0, 350]   \n",
    "        ), \n",
    "        xaxis=dict(\n",
    "             gridcolor= '#7f7f7f',\n",
    "             title = 'BSE energy (eV)', \n",
    "             zerolinecolor='#969696', \n",
    "             #range=[9017, 10000]\n",
    "        )\n",
    "    )\n",
    "\n",
    "datatrace = [trace_discr, trace_cont]\n",
    "fig = go.Figure(data=datatrace, layout=layout_log)\n",
    "py.iplot(fig, filename = 'short 30 keV BSE per 5eV at 70 tilt')"
   ]
  },
  {
   "cell_type": "code",
   "execution_count": 8,
   "metadata": {},
   "outputs": [
    {
     "ename": "SyntaxError",
     "evalue": "invalid syntax (<ipython-input-8-9c3395f83adc>, line 9)",
     "output_type": "error",
     "traceback": [
      "\u001b[0;36m  File \u001b[0;32m\"<ipython-input-8-9c3395f83adc>\"\u001b[0;36m, line \u001b[0;32m9\u001b[0m\n\u001b[0;31m    print list(h5data_c.keys())\u001b[0m\n\u001b[0m             ^\u001b[0m\n\u001b[0;31mSyntaxError\u001b[0m\u001b[0;31m:\u001b[0m invalid syntax\n"
     ]
    }
   ],
   "source": [
    "num_bins = 30\n",
    "\n",
    "# continuous\n",
    "\n",
    "#### classic\n",
    "file_cont_classic = 'data/Al_BSE_tilt70_contclassical_Emin15000_Emax30000_bins10.h5'\n",
    "\n",
    "h5data_c = h5py.File(file_cont_classic,'r+')   \n",
    "print list(h5data_c.keys())\n",
    "energy_cont = h5data_c[u'BSE']['block0_values'][0]\n",
    "\n",
    "print 'number of continuously classically scattered BSE', len(energy_cont)\n",
    "\n",
    "n_c, bins_c, patches_c = plt.hist(energy_cont, num_bins, facecolor='red', alpha=0.5)\n",
    "\n",
    "bins_mean = [0.5 * (bins_c[i] + bins_c[i+1]) for i in range(len(n_c))]\n",
    "\n",
    "trace_cont_classic = go.Scatter(x = bins_mean, \n",
    "                        y = n_c/len(energy_cont), \n",
    "                        #marker=dict(\n",
    "                         #      color = 'rgba(253, 192, 134, .9)',),\n",
    "                        name = 'classic',)\n",
    "\n",
    "\n",
    "#### JL\n",
    "file_cont_JL = 'data/Al_BSE_tilt70_contJL_Emin15000_Emax30000_bins10.h5'\n",
    "\n",
    "h5data_c = h5py.File(file_cont_JL,'r+')   \n",
    "energy_cont = h5data_c[u'BSE']['block0_values'][0]\n",
    "\n",
    "print 'number of continuously JL scattered BSE', len(energy_cont)\n",
    "\n",
    "n_c, bins_c, patches_c = plt.hist(energy_cont, num_bins, facecolor='red', alpha=0.5)\n",
    "\n",
    "bins_mean = [0.5 * (bins_c[i] + bins_c[i+1]) for i in range(len(n_c))]\n",
    "\n",
    "trace_cont_JL = go.Scatter(x = bins_mean, \n",
    "                        y = n_c/len(energy_cont), \n",
    "                        #marker=dict(\n",
    "                             #  color = 'rgba(253, 192, 134, .9)',),\n",
    "                        name = 'JL',)\n",
    "                            \n",
    "\n",
    "#### explicit    \n",
    "file_cont_explicit = 'data/Al_BSE_tilt70_contexplicit_Emin15000_Emax30000_bins10.h5'\n",
    "\n",
    "h5data_c = h5py.File(file_cont_explicit,'r+')   \n",
    "energy_cont = h5data_c[u'BSE']['block0_values'][0]\n",
    "\n",
    "print 'number of continuously explicit scattered BSE', len(energy_cont)\n",
    "\n",
    "n_c, bins_c, patches_c = plt.hist(energy_cont, num_bins, facecolor='red', alpha=0.5)\n",
    "\n",
    "bins_mean = [0.5 * (bins_c[i] + bins_c[i+1]) for i in range(len(n_c))]\n",
    "\n",
    "trace_cont_explicit = go.Scatter(x = bins_mean, \n",
    "                        y = n_c/len(energy_cont), \n",
    "                        #marker=dict(\n",
    "                             ##  color = 'rgba(253, 192, 134, .9)',),\n",
    "                        name = 'explicit',)\n",
    "\n",
    "\n",
    "\n",
    "#### discrete    \n",
    "file_ds = 'data/Al_BSE_tilt70_DSclassical_Emin15000_Emax30000_bins10.h5'\n",
    "\n",
    "h5data_c = h5py.File(file_ds,'r+')   \n",
    "energy_cont = h5data_c[u'BSE']['block0_values'][0]\n",
    "\n",
    "print 'number of continuously explicit scattered BSE', len(energy_cont)\n",
    "\n",
    "n_c, bins_c, patches_c = plt.hist(energy_cont, num_bins, facecolor='red', alpha=0.5)\n",
    "\n",
    "bins_mean = [0.5 * (bins_c[i] + bins_c[i+1]) for i in range(len(n_c))]\n",
    "\n",
    "trace_ds = go.Scatter(x = bins_mean, \n",
    "                        y = n_c/len(energy_cont), \n",
    "                        marker=dict(\n",
    "                               color = 'rgba(190, 174, 212 .9)',),\n",
    "                        name = 'discrete',)\n",
    "\n",
    "layout_log = go.Layout(\n",
    "        title = '30 keV incident electrons on a 70 degrees tilted Al sample', \n",
    "        font=dict( color='#7f7f7f'),\n",
    "        paper_bgcolor='rgba(0,0,0,0)',\n",
    "        plot_bgcolor='rgba(0,0,0,0)',\n",
    "        yaxis=dict(#type='log',\n",
    "             gridcolor= '#7f7f7f',\n",
    "             title = 'BSE counts per 5 eV bin (#/5 eV)', \n",
    "             zerolinecolor='#969696', \n",
    "            # range=[0, 350]   \n",
    "        ), \n",
    "        xaxis=dict(\n",
    "             gridcolor= '#7f7f7f',\n",
    "             title = 'BSE energy (eV)', \n",
    "             zerolinecolor='#969696', \n",
    "             #range=[9017, 10000]\n",
    "        )\n",
    "    )\n",
    "\n",
    "datatrace = [trace_cont_classic, trace_cont_JL, trace_cont_explicit, trace_ds]\n",
    "fig = go.Figure(data=datatrace, layout=layout_log)\n",
    "py.iplot(fig, filename = '30 keV BSE Bethe comparison')"
   ]
  },
  {
   "cell_type": "code",
   "execution_count": 25,
   "metadata": {},
   "outputs": [
    {
     "name": "stdout",
     "output_type": "stream",
     "text": [
      "number of discretely scattered BSE 9999\n",
      "164.5204277943622\n",
      "number of discretely scattered BSE 9999\n",
      "266.8649472785128\n"
     ]
    }
   ],
   "source": [
    "file_ds = 'data/Al_BSE_tilt70_DSclassical_Emin15000_Emax30000_bins1000.h5'\n",
    "\n",
    "h5data_c = h5py.File(file_ds,'r+')   \n",
    "pathl = h5data_c[u'all_e']['block0_values'][0]\n",
    "\n",
    "print 'number of discretely scattered BSE', len(pathl)\n",
    "print np.mean(pathl)\n",
    "\n",
    "file_ds = 'data/Al_BSE_tilt70_contclassical_Emin15000_Emax30000_bins1000.h5'\n",
    "\n",
    "h5data_c = h5py.File(file_ds,'r+')   \n",
    "pathl = h5data_c[u'all_e']['block0_values'][0]\n",
    "\n",
    "print 'number of discretely scattered BSE', len(pathl)\n",
    "print np.mean(pathl)"
   ]
  },
  {
   "cell_type": "code",
   "execution_count": 38,
   "metadata": {},
   "outputs": [
    {
     "ename": "IndexError",
     "evalue": "list index out of range",
     "output_type": "error",
     "traceback": [
      "\u001b[0;31m---------------------------------------------------------------------------\u001b[0m",
      "\u001b[0;31mIndexError\u001b[0m                                Traceback (most recent call last)",
      "\u001b[0;32m<ipython-input-38-bbfd3e106786>\u001b[0m in \u001b[0;36m<module>\u001b[0;34m()\u001b[0m\n\u001b[1;32m     15\u001b[0m         \u001b[0mpos\u001b[0m \u001b[0;34m=\u001b[0m \u001b[0;34m(\u001b[0m\u001b[0;34m[\u001b[0m\u001b[0mfloat\u001b[0m\u001b[0;34m(\u001b[0m\u001b[0mi\u001b[0m\u001b[0;34m)\u001b[0m \u001b[0;32mfor\u001b[0m \u001b[0mi\u001b[0m \u001b[0;32min\u001b[0m \u001b[0mline\u001b[0m\u001b[0;34m.\u001b[0m\u001b[0mstrip\u001b[0m\u001b[0;34m(\u001b[0m\u001b[0;34m'['\u001b[0m\u001b[0;34m)\u001b[0m\u001b[0;34m.\u001b[0m\u001b[0mstrip\u001b[0m\u001b[0;34m(\u001b[0m\u001b[0;34m']'\u001b[0m\u001b[0;34m)\u001b[0m\u001b[0;34m.\u001b[0m\u001b[0msplit\u001b[0m\u001b[0;34m(\u001b[0m\u001b[0;34m)\u001b[0m\u001b[0;34m]\u001b[0m\u001b[0;34m)\u001b[0m\u001b[0;34m\u001b[0m\u001b[0m\n\u001b[1;32m     16\u001b[0m \u001b[0;34m\u001b[0m\u001b[0m\n\u001b[0;32m---> 17\u001b[0;31m         \u001b[0;32mif\u001b[0m \u001b[0;34m(\u001b[0m\u001b[0mpos\u001b[0m\u001b[0;34m[\u001b[0m\u001b[0;36m2\u001b[0m\u001b[0;34m]\u001b[0m \u001b[0;34m==\u001b[0m \u001b[0;36m0.0\u001b[0m\u001b[0;34m)\u001b[0m\u001b[0;34m:\u001b[0m\u001b[0;34m\u001b[0m\u001b[0m\n\u001b[0m\u001b[1;32m     18\u001b[0m             \u001b[0mel\u001b[0m \u001b[0;34m+=\u001b[0m \u001b[0;36m1\u001b[0m\u001b[0;34m\u001b[0m\u001b[0m\n\u001b[1;32m     19\u001b[0m             \u001b[0mx\u001b[0m\u001b[0;34m[\u001b[0m\u001b[0mel\u001b[0m\u001b[0;34m]\u001b[0m\u001b[0;34m.\u001b[0m\u001b[0mappend\u001b[0m\u001b[0;34m(\u001b[0m\u001b[0mpos\u001b[0m\u001b[0;34m[\u001b[0m\u001b[0;36m0\u001b[0m\u001b[0;34m]\u001b[0m\u001b[0;34m)\u001b[0m\u001b[0;34m\u001b[0m\u001b[0m\n",
      "\u001b[0;31mIndexError\u001b[0m: list index out of range"
     ]
    }
   ],
   "source": [
    "file = 'positions_70tilt_cont.out'\n",
    "\n",
    "num_el = 200\n",
    "pos = []\n",
    "el = -1\n",
    "x = [[] for i in range(num_el)]\n",
    "y = [[] for i in range(num_el)]\n",
    "z = [[] for i in range(num_el)]\n",
    "\n",
    " \n",
    "with open(file) as f:\n",
    "    lines = f.read().splitlines()\n",
    "\n",
    "    for line in lines:\n",
    "        pos = ([float(i) for i in line.strip('[').strip(']').split()])\n",
    "\n",
    "        if (pos[2] == 0.0):\n",
    "            el += 1\n",
    "            x[el].append(pos[0])\n",
    "            y[el].append(pos[1])\n",
    "            z[el].append(-pos[2])\n",
    "        else:\n",
    "            x[el].append(pos[0])\n",
    "            y[el].append(pos[1])\n",
    "            z[el].append(-pos[2])\n"
   ]
  },
  {
   "cell_type": "code",
   "execution_count": 29,
   "metadata": {
    "scrolled": false
   },
   "outputs": [
    {
     "data": {
      "text/html": [
       "<iframe id=\"igraph\" scrolling=\"no\" style=\"border:none;\" seamless=\"seamless\" src=\"https://plot.ly/~elena.pascal/2421.embed\" height=\"525px\" width=\"100%\"></iframe>"
      ],
      "text/plain": [
       "<plotly.tools.PlotlyDisplay object>"
      ]
     },
     "execution_count": 29,
     "metadata": {},
     "output_type": "execute_result"
    }
   ],
   "source": [
    "data = []\n",
    "trace = [[] for i in range(num_el)]\n",
    "for i in range(0, 15):\n",
    "\n",
    "    trace[i] = go.Scatter(\n",
    "        x = x[i],\n",
    "        y = z[i],\n",
    "        mode = 'lines+markers', \n",
    "        name = 'electron '+str(i)\n",
    "    )\n",
    "    data.append(trace[i])\n",
    "\n",
    "layout = go.Layout(\n",
    "    title = '20 kV incident electrons on a 50 degrees tilted Al sample', \n",
    "    font=dict( color='#7f7f7f'),\n",
    "    paper_bgcolor='rgba(0,0,0,0)',\n",
    "    plot_bgcolor='rgba(0,0,0,0)',\n",
    "    yaxis=dict(\n",
    "        gridcolor= '#7f7f7f', \n",
    "        title = 'z(A)', \n",
    "        zerolinecolor='#ffffff'\n",
    "        #autorange='reversed'\n",
    "    ), \n",
    "    xaxis=dict(\n",
    "        gridcolor= '#7f7f7f',\n",
    "        title = 'x(A)', \n",
    "        zerolinecolor='#969696'\n",
    "    )\n",
    ")\n",
    "fig = go.Figure(data=data, layout=layout)\n",
    "py.iplot(fig, filename='xz_scater')"
   ]
  },
  {
   "cell_type": "code",
   "execution_count": 60,
   "metadata": {},
   "outputs": [
    {
     "data": {
      "text/html": [
       "<iframe id=\"igraph\" scrolling=\"no\" style=\"border:none;\" seamless=\"seamless\" src=\"https://plot.ly/~elena.pascal/2423.embed\" height=\"525px\" width=\"100%\"></iframe>"
      ],
      "text/plain": [
       "<plotly.tools.PlotlyDisplay object>"
      ]
     },
     "execution_count": 60,
     "metadata": {},
     "output_type": "execute_result"
    }
   ],
   "source": [
    "el = 4\n",
    "trace = go.Scatter3d(\n",
    "    x=x[el],\n",
    "    y=y[el],\n",
    "    z=z[el],\n",
    "    mode='line',\n",
    "    marker=dict(\n",
    "        color='rgb(127, 127, 127)',\n",
    "        size=3,\n",
    "        symbol='circle',\n",
    "        line=dict(\n",
    "            color='rgb(204, 204, 204)',\n",
    "            width=1\n",
    "        ),\n",
    "        opacity=0.9\n",
    "    )\n",
    ")\n",
    "\n",
    "\n",
    "layout = go.Layout(\n",
    "    margin=dict(\n",
    "        l=0,\n",
    "        r=0,\n",
    "        b=0,\n",
    "        t=0\n",
    "    )\n",
    ")\n",
    "\n",
    "data = [trace]\n",
    "\n",
    "fig = go.Figure(data=data, layout=layout)\n",
    "py.iplot(fig, filename='3d-one_electron')"
   ]
  },
  {
   "cell_type": "code",
   "execution_count": 20,
   "metadata": {},
   "outputs": [
    {
     "name": "stdout",
     "output_type": "stream",
     "text": [
      "11971 11971\n",
      "5653 5653\n"
     ]
    },
    {
     "data": {
      "text/html": [
       "<iframe id=\"igraph\" scrolling=\"no\" style=\"border:none;\" seamless=\"seamless\" src=\"https://plot.ly/~elena.pascal/2425.embed\" height=\"525px\" width=\"100%\"></iframe>"
      ],
      "text/plain": [
       "<plotly.tools.PlotlyDisplay object>"
      ]
     },
     "execution_count": 20,
     "metadata": {},
     "output_type": "execute_result"
    }
   ],
   "source": [
    "file_tR = 'thetaR_50tilt.out'\n",
    "\n",
    "thetaR = []\n",
    "with open(file_tR) as f:\n",
    "    lines = f.read().splitlines()\n",
    "thetaR = [float(line) for line in lines]\n",
    "\n",
    "\n",
    "file_tG = 'thetaG_50tilt.out'\n",
    "\n",
    "thetaG = []\n",
    "with open(file_tG) as f:\n",
    "    lines = f.read().splitlines()\n",
    "thetaG = [float(line) for line in lines]\n",
    "\n",
    "\n",
    "file_tM = 'thetaM_50tilt.out'\n",
    "\n",
    "thetaM = []\n",
    "with open(file_tM) as f:\n",
    "    lines = f.read().splitlines()\n",
    "thetaM = [float(line) for line in lines]\n",
    "\n",
    "\n",
    "file_pR = 'phiR_50tilt.out'\n",
    "\n",
    "phiR = []\n",
    "with open(file_pR) as f:\n",
    "    lines = f.read().splitlines()\n",
    "phiR = [float(line) for line in lines]\n",
    "\n",
    "\n",
    "file_pG = 'phiG_50tilt.out'\n",
    "\n",
    "phiG = []\n",
    "with open(file_pG) as f:\n",
    "    lines = f.read().splitlines()\n",
    "phiG = [float(line) for line in lines]\n",
    "\n",
    "file_pM = 'phiM_50tilt.out'\n",
    "\n",
    "phiM = []\n",
    "with open(file_pM) as f:\n",
    "    lines = f.read().splitlines()\n",
    "phiM = [float(line) for line in lines]\n",
    "\n",
    "\n",
    "\n",
    "print len(phiM), len(thetaM)\n",
    "print len(phiG), len(thetaG)\n",
    "data_thetaR = [go.Histogram(x = np.degrees(thetaR), \n",
    "                      name = 'theta Rutherford')      \n",
    "       ]\n",
    "\n",
    "data_phiR = [go.Histogram(x = phiR, \n",
    "                      name = 'phi Rutherford')      \n",
    "       ]\n",
    "        \n",
    "data_thetaG = [go.Histogram(x = np.degrees(thetaG), \n",
    "                          autobinx = False,\n",
    "                         #xbins =dict(start = 0., \n",
    "                         #        end = 1.57, \n",
    "                         #        size = 0.01571, ) , \n",
    "                             histnorm='probability',\n",
    "                             name = 'theta Gryzinski'), \n",
    "              ]\n",
    "\n",
    "\n",
    "data_phiG = [go.Histogram(x = phiG, \n",
    "                          autobinx = False,\n",
    "                         xbins =dict(start = 0., \n",
    "                                 end = 6.28, \n",
    "                                 size = 0.7854, ) , \n",
    "                      name = 'phi Gryzinski')      \n",
    "       ]               \n",
    "               \n",
    "    \n",
    "data_thetaM = [go.Histogram(x = np.degrees(thetaM), \n",
    "                          autobinx = False,\n",
    "                         #xbins =dict(start = 0., \n",
    "                         #        end = 1.57, \n",
    "                         #        size = 0.01571, ) , \n",
    "                             histnorm='probability',\n",
    "                     name = 'theta Moller'), \n",
    "              ]\n",
    "\n",
    "\n",
    "data_phiM = [go.Histogram(x = phiM, \n",
    "                          autobinx = False,\n",
    "                         xbins =dict(start = 0., \n",
    "                                 end = 3.14, \n",
    "                                 size = 0.1571, ) , \n",
    "                         name = 'phi Moller')      \n",
    "       ]               \n",
    "\n",
    "py.iplot(data_thetaG, filename='polar angles')\n",
    "\n",
    "#print data_thetaG[0]['x']"
   ]
  },
  {
   "cell_type": "code",
   "execution_count": 21,
   "metadata": {},
   "outputs": [
    {
     "data": {
      "text/html": [
       "<iframe id=\"igraph\" scrolling=\"no\" style=\"border:none;\" seamless=\"seamless\" src=\"https://plot.ly/~elena.pascal/2425.embed\" height=\"525px\" width=\"100%\"></iframe>"
      ],
      "text/plain": [
       "<plotly.tools.PlotlyDisplay object>"
      ]
     },
     "execution_count": 21,
     "metadata": {},
     "output_type": "execute_result"
    }
   ],
   "source": [
    "py.iplot(data_thetaM, filename='polar angles')"
   ]
  },
  {
   "cell_type": "code",
   "execution_count": 190,
   "metadata": {},
   "outputs": [
    {
     "name": "stdout",
     "output_type": "stream",
     "text": [
      "-0.741652546863333 0.9999998156620046\n",
      "0.0006071869581719088 2.406326945616268\n",
      "[0.99994852 0.9896637  0.99904666 0.98309125 0.99861368 0.9948864\n",
      " 0.99952285 0.99992426 0.99983678 0.99870184]\n",
      "[0.01014698 0.14390384 0.04366903 0.18415548 0.05266196 0.10117274\n",
      " 0.03089288 0.01230764 0.01806774 0.05095959]\n"
     ]
    },
    {
     "data": {
      "text/html": [
       "<iframe id=\"igraph\" scrolling=\"no\" style=\"border:none;\" seamless=\"seamless\" src=\"https://plot.ly/~elena.pascal/2425.embed\" height=\"525px\" width=\"100%\"></iframe>"
      ],
      "text/plain": [
       "<plotly.tools.PlotlyDisplay object>"
      ]
     },
     "execution_count": 190,
     "metadata": {},
     "output_type": "execute_result"
    }
   ],
   "source": [
    "import numpy as np\n",
    "from math import acos\n",
    "\n",
    "x = np.random.rand(10000)\n",
    "\n",
    "alpha =  3.4*(13.**(0.67))/(20000.)\n",
    "\n",
    "\n",
    "c_Theta = (1. - (2.*alpha*x)/(1. + alpha - x))\n",
    "c2_halfTheta =  1.-(alpha*x /(1. + alpha-x))\n",
    "\n",
    "print min(c_Theta), max(c_Theta)\n",
    "print np.arccos(max(c_Theta)), np.arccos(min(c_Theta))\n",
    "print c_Theta[0:10]\n",
    "print np.arccos(c_Theta[0:10])\n",
    "\n",
    "hist_thetaR_or = np.histogram(np.degrees([acos(cosValue) for cosValue in c_Theta]), density=True)\n",
    "\n",
    "data_thetaR_or = [go.Scatter(x = hist_thetaR_or[1]+9,\n",
    "                             y = hist_thetaR_or[0], \n",
    "                             #nbinsx = 100, \n",
    "                             name = 'theta R'), \n",
    "              ]\n",
    "               \n",
    "    \n",
    "data_thetaR = [go.Histogram(x = np.degrees(2.*np.arccos(c2_halfTheta**0.5)), \n",
    "                             nbinsx = 100, \n",
    "                             name = 'theta R'), \n",
    "              ]\n",
    "               \n",
    "               \n",
    "py.iplot(data_thetaR_or, filename='polar angles')"
   ]
  },
  {
   "cell_type": "code",
   "execution_count": 191,
   "metadata": {},
   "outputs": [
    {
     "data": {
      "text/html": [
       "<iframe id=\"igraph\" scrolling=\"no\" style=\"border:none;\" seamless=\"seamless\" src=\"https://plot.ly/~elena.pascal/2425.embed\" height=\"525px\" width=\"100%\"></iframe>"
      ],
      "text/plain": [
       "<plotly.tools.PlotlyDisplay object>"
      ]
     },
     "execution_count": 191,
     "metadata": {},
     "output_type": "execute_result"
    }
   ],
   "source": [
    "py.iplot(data_thetaR, filename='polar angles')"
   ]
  },
  {
   "cell_type": "code",
   "execution_count": 61,
   "metadata": {},
   "outputs": [
    {
     "data": {
      "text/html": [
       "<iframe id=\"igraph\" scrolling=\"no\" style=\"border:none;\" seamless=\"seamless\" src=\"https://plot.ly/~elena.pascal/2425.embed\" height=\"525px\" width=\"100%\"></iframe>"
      ],
      "text/plain": [
       "<plotly.tools.PlotlyDisplay object>"
      ]
     },
     "execution_count": 61,
     "metadata": {},
     "output_type": "execute_result"
    }
   ],
   "source": [
    "py.iplot(data_phiG, filename='polar angles')"
   ]
  },
  {
   "cell_type": "code",
   "execution_count": 172,
   "metadata": {},
   "outputs": [
    {
     "ename": "AttributeError",
     "evalue": "'module' object has no attribute 'Scatterpolar'",
     "output_type": "error",
     "traceback": [
      "\u001b[0;31m---------------------------------------------------------------------------\u001b[0m",
      "\u001b[0;31mAttributeError\u001b[0m                            Traceback (most recent call last)",
      "\u001b[0;32m<ipython-input-172-060fdc416df0>\u001b[0m in \u001b[0;36m<module>\u001b[0;34m()\u001b[0m\n\u001b[1;32m      2\u001b[0m \u001b[0;34m\u001b[0m\u001b[0m\n\u001b[1;32m      3\u001b[0m data = [\n\u001b[0;32m----> 4\u001b[0;31m     go.Scatterpolar(\n\u001b[0m\u001b[1;32m      5\u001b[0m         \u001b[0mr\u001b[0m \u001b[0;34m=\u001b[0m \u001b[0mdf\u001b[0m\u001b[0;34m[\u001b[0m\u001b[0;34m'x1'\u001b[0m\u001b[0;34m]\u001b[0m\u001b[0;34m,\u001b[0m\u001b[0;34m\u001b[0m\u001b[0m\n\u001b[1;32m      6\u001b[0m         \u001b[0mtheta\u001b[0m \u001b[0;34m=\u001b[0m \u001b[0mdf\u001b[0m\u001b[0;34m[\u001b[0m\u001b[0;34m'y'\u001b[0m\u001b[0;34m]\u001b[0m\u001b[0;34m,\u001b[0m\u001b[0;34m\u001b[0m\u001b[0m\n",
      "\u001b[0;31mAttributeError\u001b[0m: 'module' object has no attribute 'Scatterpolar'"
     ]
    }
   ],
   "source": [
    "\n",
    "\n",
    "data = [\n",
    "    go.Scatterpolar(\n",
    "        r = df['x1'],\n",
    "        theta = df['y'],\n",
    "        mode = 'lines',\n",
    "        name = 'Figure8',\n",
    "        line =  dict(\n",
    "            color = 'peru'\n",
    "        )\n",
    "    ),\n",
    "    go.Scatterpolar(\n",
    "        r = df['x2'],\n",
    "        theta = df['y'],\n",
    "        mode = 'lines',\n",
    "        name = 'Cardioid',\n",
    "        line =  dict(\n",
    "            color = 'darkviolet'\n",
    "        )\n",
    "    ),\n",
    "    go.Scatterpolar(\n",
    "        r = df['x3'],\n",
    "        theta = df['y'],\n",
    "        mode = 'lines',\n",
    "        name = 'Hypercardioid',\n",
    "        line =  dict(\n",
    "            color = 'deepskyblue'\n",
    "        )\n",
    "    ),\n",
    "    go.Scatterpolar(\n",
    "        r = df['x4'],\n",
    "        theta = df['y'],\n",
    "        mode = 'lines',\n",
    "        name = 'orangered',\n",
    "        line =  dict(\n",
    "            color = 'orangered'\n",
    "        )\n",
    "    ),\n",
    "    go.Scatterpolar(\n",
    "        r = df['x5'],\n",
    "        theta = df['y'],\n",
    "        mode = 'lines',\n",
    "        name = 'Supercardioid',\n",
    "        line =  dict(\n",
    "            color = 'green'\n",
    "        )\n",
    "    )\n",
    "]\n",
    "\n",
    "layout = go.Layout(\n",
    "    title = 'Mic Patterns',\n",
    "    font = dict(\n",
    "        family = 'Arial, sans-serif;',\n",
    "        size = 12,\n",
    "        color = '#000'\n",
    "    ),\n",
    "    showlegend = False\n",
    ")\n",
    "\n",
    "fig = go.Figure(data=data, layout=layout)\n",
    "py.iplot(fig, filename = 'polar-line')"
   ]
  },
  {
   "cell_type": "code",
   "execution_count": null,
   "metadata": {},
   "outputs": [],
   "source": []
  }
 ],
 "metadata": {
  "kernelspec": {
   "display_name": "Python 3",
   "language": "python",
   "name": "python3"
  },
  "language_info": {
   "codemirror_mode": {
    "name": "ipython",
    "version": 3
   },
   "file_extension": ".py",
   "mimetype": "text/x-python",
   "name": "python",
   "nbconvert_exporter": "python",
   "pygments_lexer": "ipython3",
   "version": "3.7.3"
  }
 },
 "nbformat": 4,
 "nbformat_minor": 2
}
