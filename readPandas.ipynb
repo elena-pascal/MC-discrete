{
 "cells": [
  {
   "cell_type": "code",
   "execution_count": 1,
   "metadata": {},
   "outputs": [],
   "source": [
    "import numpy as np\n",
    "import h5py\n",
    "import plotly.offline as offline       # a number of plotly goodies\n",
    "import plotly.plotly as py\n",
    "import plotly.graph_objs as go\n",
    "\n",
    "\n",
    "from matplotlib import pyplot as plt\n",
    "import numpy as np\n",
    "import pandas as pd\n",
    "import h5py"
   ]
  },
  {
   "cell_type": "code",
   "execution_count": 2,
   "metadata": {},
   "outputs": [
    {
     "name": "stdout",
     "output_type": "stream",
     "text": [
      "mean total length travelled by BSE 13305.474459407036\n",
      "mean free path travelled by BSE 182.50904895627514\n",
      "mean number of scattering events suffered by BSE 72.95346385542169\n"
     ]
    }
   ],
   "source": [
    "file_discr = 'data/Al_BSE_DS_short.h5'\n",
    "\n",
    "df_discr = pd.read_hdf(file_discr, 'all_electrons')\n",
    "\n",
    "print 'mean total length travelled by BSE', np.mean(df_discr[df_discr.values=='backscattered']['TP'])\n",
    "print 'mean free path travelled by BSE', np.mean(df_discr[df_discr.values=='backscattered']['MFP'])\n",
    "print 'mean number of scattering events suffered by BSE', np.mean(df_discr[df_discr.values=='backscattered']['num_scatt'])\n",
    "\n",
    "\n",
    "en_discr = df_discr[df_discr.values=='backscattered']['energy'].values.tolist()"
   ]
  },
  {
   "cell_type": "code",
   "execution_count": 3,
   "metadata": {},
   "outputs": [
    {
     "name": "stdout",
     "output_type": "stream",
     "text": [
      "mean total length travelled by BSE 13087.050516317746\n",
      "mean free path travelled by BSE 308.1838457373046\n",
      "mean number of scattering events suffered by BSE 42.26120914087359\n"
     ]
    }
   ],
   "source": [
    "file_cont = 'data/Al_BSE_cont_short.h5'\n",
    "\n",
    "df_cont = pd.read_hdf(file_cont, 'all_electrons')\n",
    "\n",
    "print 'mean total length travelled by BSE', np.mean(df_cont[df_cont.values=='backscattered']['TP'])\n",
    "print 'mean free path travelled by BSE', np.mean(df_cont[df_cont.values=='backscattered']['MFP'])\n",
    "print 'mean number of scattering events suffered by BSE', np.mean(df_cont[df_cont.values=='backscattered']['num_scatt'])\n",
    "\n",
    "\n",
    "en_cont = df_cont[df_cont.values=='backscattered']['energy'].values.tolist()"
   ]
  },
  {
   "cell_type": "markdown",
   "metadata": {},
   "source": [
    "#### BSE spectra"
   ]
  },
  {
   "cell_type": "code",
   "execution_count": 34,
   "metadata": {},
   "outputs": [
    {
     "data": {
      "text/html": [
       "<iframe id=\"igraph\" scrolling=\"no\" style=\"border:none;\" seamless=\"seamless\" src=\"https://plot.ly/~elena.pascal/2486.embed\" height=\"525px\" width=\"100%\"></iframe>"
      ],
      "text/plain": [
       "<chart_studio.tools.PlotlyDisplay object>"
      ]
     },
     "execution_count": 34,
     "metadata": {},
     "output_type": "execute_result"
    },
    {
     "data": {
      "image/png": "[encoded data removed]",
      "text/plain": [
       "<Figure size 432x288 with 1 Axes>"
      ]
     },
     "metadata": {
      "needs_background": "light"
     },
     "output_type": "display_data"
    }
   ],
   "source": [
    "num_bins = 50\n",
    "n_cont, bins_cont, patches_cont = plt.hist(en_cont, num_bins, facecolor='green', alpha=0.5)\n",
    "bins_mean = [0.5 * (bins_cont[i] + bins_cont[i+1]) for i in range(len(n_cont))]\n",
    "\n",
    "trace_cont = go.Scatter(x = bins_mean, \n",
    "                          y = n_cont, \n",
    "                          marker=dict(\n",
    "                               color = 'rgba(127, 201, 127, .9)',),\n",
    "                          name = 'continuous',)\n",
    "\n",
    "\n",
    "############\n",
    "n_discr, bins_discr, patches_discr = plt.hist(en_discr, num_bins, facecolor='orange', alpha=0.5)\n",
    "\n",
    "trace_discr = go.Scatter(x = bins_mean, \n",
    "                          y = n_discr, \n",
    "                          marker=dict(\n",
    "                               color = 'rgba(253, 192, 134, .9)',),\n",
    "                          name = 'discrete',)\n",
    "\n",
    "\n",
    "\n",
    "layout_log = go.Layout(\n",
    "        title = '10 keV incident electrons on a 70 degrees tilted Al sample', \n",
    "        font=dict( color='#7f7f7f'),\n",
    "        paper_bgcolor='rgba(0,0,0,0)',\n",
    "        plot_bgcolor='rgba(0,0,0,0)',\n",
    "        yaxis=dict(#type='log',\n",
    "             gridcolor= '#7f7f7f',\n",
    "             title = 'BSE counts per 100 eV bin (#/100 eV)', \n",
    "             zerolinecolor='#969696', \n",
    "             #range=[0, 350]   \n",
    "        ), \n",
    "        xaxis=dict(\n",
    "             gridcolor= '#7f7f7f',\n",
    "             title = 'BSE energy (eV)', \n",
    "             zerolinecolor='#969696', \n",
    "             range=[25000, 30000])\n",
    "    )\n",
    "\n",
    "\n",
    "datatrace = [trace_cont, trace_discr ]\n",
    "fig = go.Figure(data=datatrace, layout=layout_log)\n",
    "py.iplot(fig, filename = 'Al BSE per 100eV at 70 tilt')"
   ]
  },
  {
   "cell_type": "markdown",
   "metadata": {},
   "source": [
    "#### Total pathlength per energy bin"
   ]
  },
  {
   "cell_type": "code",
   "execution_count": 60,
   "metadata": {},
   "outputs": [
    {
     "name": "stdout",
     "output_type": "stream",
     "text": [
      "mean discrete TP 13388.08279931503\n",
      "mean continous TP 13090.75922899806\n"
     ]
    },
    {
     "data": {
      "text/html": [
       "<iframe id=\"igraph\" scrolling=\"no\" style=\"border:none;\" seamless=\"seamless\" src=\"https://plot.ly/~elena.pascal/2488.embed\" height=\"525px\" width=\"100%\"></iframe>"
      ],
      "text/plain": [
       "<chart_studio.tools.PlotlyDisplay object>"
      ]
     },
     "execution_count": 60,
     "metadata": {},
     "output_type": "execute_result"
    }
   ],
   "source": [
    "def pairs(lst):\n",
    "    '''for a non empty list return a tuples of pair items'''\n",
    "    i = iter(lst)\n",
    "    first = prev = item = i.next()\n",
    "    for item in i:\n",
    "        yield prev, item\n",
    "        prev = item\n",
    "    yield item, first\n",
    "    \n",
    "BSE_discr = df_discr[df_discr.values=='backscattered']   \n",
    "\n",
    "total_path = np.zeros(len(bins_cont-1))\n",
    "count = np.zeros(len(bins_cont-1))\n",
    "num_scatt = np.zeros(len(bins_cont-1))\n",
    "for  bin_number, bin_edges in enumerate(pairs(bins_cont)):    \n",
    "    BSE_discr.loc[((BSE_discr['energy'] >= bin_edges[0]) & (BSE_discr['energy']< bin_edges[1])), 'energy_bin'] = bin_number\n",
    "    if ((BSE_discr.loc[(BSE_discr['energy_bin'] == bin_number), 'TP'].values).any()):\n",
    "        total_path[bin_number] = np.mean((BSE_discr.loc[(BSE_discr['energy_bin'] == bin_number), 'TP'].values))\n",
    "        count[bin_number] = len((BSE_discr.loc[(BSE_discr['energy_bin'] == bin_number), 'TP'].values))\n",
    "        num_scatt[bin_number] = np.mean((BSE_discr.loc[(BSE_discr['energy_bin'] == bin_number), 'num_scatt'].values))\n",
    "\n",
    "t_discr_m = go.Scatter(x = bins_cont, \n",
    "                          y = total_path, \n",
    "                          marker=dict(\n",
    "                          color = 'rgba(127, 201, 127, .9)',),\n",
    "                          name = 'discrete',)\n",
    "print 'mean discrete TP', np.sum(total_path*count)/(np.sum(count))\n",
    "\n",
    "trace_discr_count = go.Scatter(x = bins_cont, \n",
    "                          y = num_scatt, \n",
    "                          marker=dict(\n",
    "                          color = 'rgba(127, 201, 127, .9)',),\n",
    "                          name = 'discrete',)\n",
    "\n",
    "#############     \n",
    "BSE_cont = df_cont[df_cont.values=='backscattered']   \n",
    "\n",
    "total_path = np.zeros(len(bins_cont-1))\n",
    "count = np.zeros(len(bins_cont-1))\n",
    "num_scatt = np.zeros(len(bins_cont-1))\n",
    "for  bin_number, bin_edges in enumerate(pairs(bins_cont)):    \n",
    "    BSE_cont.loc[((BSE_cont['energy'] >= bin_edges[0]) & (BSE_cont['energy']< bin_edges[1])), 'energy_bin'] = bin_number\n",
    "    if ((BSE_cont.loc[(BSE_cont['energy_bin'] == bin_number), 'TP'].values).any()):\n",
    "        total_path[bin_number] = np.mean((BSE_cont.loc[(BSE_cont['energy_bin'] == bin_number), 'TP'].values))\n",
    "        count[bin_number] = len((BSE_cont.loc[(BSE_cont['energy_bin'] == bin_number), 'TP'].values))\n",
    "        num_scatt[bin_number] = np.mean((BSE_cont.loc[(BSE_cont['energy_bin'] == bin_number), 'num_scatt'].values))\n",
    "\n",
    "t_cont_m = go.Scatter(x = bins_cont, \n",
    "                          y = total_path, \n",
    "                          marker=dict(\n",
    "                          color = 'rgba(253, 192, 134, .9)'),\n",
    "                          name = 'continuous',) \n",
    "\n",
    "trace_cont_count = go.Scatter(x = bins_cont, \n",
    "                          y = num_scatt, \n",
    "                          marker=dict(\n",
    "                          color = 'rgba(253, 192, 134, .9)'),\n",
    "                          name = 'continuous',)\n",
    "\n",
    "layout = go.Layout(\n",
    "        title = '10 keV incident electrons on a 70 degrees tilted Al sample', \n",
    "        font=dict( color='#7f7f7f'),\n",
    "        paper_bgcolor='rgba(0,0,0,0)',\n",
    "        plot_bgcolor='rgba(0,0,0,0)',\n",
    "        yaxis=dict(#type='log',\n",
    "             gridcolor= '#7f7f7f',\n",
    "             title = 'Mean total pathlenght counts per 100 eV bin (#/100 eV)', \n",
    "             zerolinecolor='#969696', \n",
    "             #range=[0, 350]   \n",
    "        ), \n",
    "        xaxis=dict(\n",
    "             gridcolor= '#7f7f7f',\n",
    "             title = 'BSE energy (eV)', \n",
    "             zerolinecolor='#969696', \n",
    "             range=[25000, 30000])\n",
    "    )\n",
    "print 'mean continous TP', np.sum(total_path*count)/(np.sum(count)) \n",
    "datatrace = [t_cont_m, t_discr_m ]\n",
    "fig = go.Figure(data=datatrace, layout=layout)\n",
    "py.iplot(fig, filename = 'mean total pathlength Al BSE per 100eV at 70 tilt')\n",
    "\n",
    "\n"
   ]
  },
  {
   "cell_type": "markdown",
   "metadata": {},
   "source": [
    "#### All total path lengths"
   ]
  },
  {
   "cell_type": "code",
   "execution_count": 51,
   "metadata": {},
   "outputs": [
    {
     "data": {
      "text/html": [
       "<iframe id=\"igraph\" scrolling=\"no\" style=\"border:none;\" seamless=\"seamless\" src=\"https://plot.ly/~elena.pascal/2490.embed\" height=\"525px\" width=\"100%\"></iframe>"
      ],
      "text/plain": [
       "<chart_studio.tools.PlotlyDisplay object>"
      ]
     },
     "execution_count": 51,
     "metadata": {},
     "output_type": "execute_result"
    }
   ],
   "source": [
    "energy = BSE_discr['energy']\n",
    "trace_discr = go.Scatter(x = energy, \n",
    "                         y = BSE_discr['TP'], \n",
    "                         mode = 'markers',\n",
    "                         marker=dict(\n",
    "                         size = 2,    \n",
    "                         color = 'rgba(127, 201, 127, .9)',),\n",
    "                         name = 'discrete',)\n",
    "\n",
    "\n",
    "\n",
    "\n",
    "energy = BSE_cont['energy']\n",
    "trace_cont = go.Scatter(x = energy, \n",
    "                        y = BSE_cont['TP'], \n",
    "                        mode = 'markers',\n",
    "                        marker=dict(\n",
    "                        size = 2,    \n",
    "                        color = 'rgba(253, 192, 134, .9)'),\n",
    "                        name = 'continuous',)  \n",
    "\n",
    "\n",
    " \n",
    "\n",
    "layout = go.Layout(\n",
    "        title = '10 keV incident electrons on a 70 degrees tilted Al sample', \n",
    "        font=dict( color='#7f7f7f'),\n",
    "        paper_bgcolor='rgba(0,0,0,0)',\n",
    "        plot_bgcolor='rgba(0,0,0,0)',\n",
    "        yaxis=dict(#type='log',\n",
    "             gridcolor= '#7f7f7f',\n",
    "             title = 'Total pathlenght per electron', \n",
    "             zerolinecolor='#969696', \n",
    "             #range=[0, 350]   \n",
    "        ), \n",
    "        xaxis=dict(\n",
    "             gridcolor= '#7f7f7f',\n",
    "             title = 'BSE energy (eV)', \n",
    "             zerolinecolor='#969696', \n",
    "             range=[25000, 30000])\n",
    "    )\n",
    "\n",
    "datatrace = [trace_cont, trace_discr, t_cont_m, t_discr_m ]\n",
    "fig = go.Figure(data=datatrace, layout=layout)\n",
    "py.iplot(fig, filename = 'all total pathlength Al BSE at 70 tilt')\n"
   ]
  },
  {
   "cell_type": "markdown",
   "metadata": {},
   "source": [
    "#### scattering counts per energy bin"
   ]
  },
  {
   "cell_type": "code",
   "execution_count": 61,
   "metadata": {},
   "outputs": [
    {
     "data": {
      "text/html": [
       "<iframe id=\"igraph\" scrolling=\"no\" style=\"border:none;\" seamless=\"seamless\" src=\"https://plot.ly/~elena.pascal/2490.embed\" height=\"525px\" width=\"100%\"></iframe>"
      ],
      "text/plain": [
       "<chart_studio.tools.PlotlyDisplay object>"
      ]
     },
     "execution_count": 61,
     "metadata": {},
     "output_type": "execute_result"
    }
   ],
   "source": [
    "energy = BSE_discr['energy']\n",
    "t_discr = go.Scatter(x = energy, \n",
    "                         y = BSE_discr['num_scatt'], \n",
    "                         mode = 'markers',\n",
    "                         marker=dict(\n",
    "                         size = 2,    \n",
    "                         color = 'rgba(127, 201, 127, .9)',),\n",
    "                         name = 'discrete',)\n",
    "\n",
    "\n",
    "\n",
    "\n",
    "energy = BSE_cont['energy']\n",
    "t_cont = go.Scatter(x = energy, \n",
    "                        y = BSE_cont['num_scatt'], \n",
    "                        mode = 'markers',\n",
    "                        marker=dict(\n",
    "                        size = 2,    \n",
    "                        color = 'rgba(253, 192, 134, .9)'),\n",
    "                        name = 'continuous',)  \n",
    "\n",
    "\n",
    "\n",
    "layout = go.Layout(\n",
    "        title = '10 keV incident electrons on a 70 degrees tilted Al sample', \n",
    "        font=dict( color='#7f7f7f'),\n",
    "        paper_bgcolor='rgba(0,0,0,0)',\n",
    "        plot_bgcolor='rgba(0,0,0,0)',\n",
    "        yaxis=dict(#type='log',\n",
    "             gridcolor= '#7f7f7f',\n",
    "             title = '# scaterings per energy bin', \n",
    "             zerolinecolor='#969696', \n",
    "             #range=[0, 350]   \n",
    "        ), \n",
    "        xaxis=dict(\n",
    "             gridcolor= '#7f7f7f',\n",
    "             title = 'BSE energy (eV)', \n",
    "             zerolinecolor='#969696', \n",
    "             range=[25000, 30000])\n",
    "    )\n",
    "\n",
    "datatrace = [trace_cont_count, trace_discr_count, t_discr, t_cont ]\n",
    "fig = go.Figure(data=datatrace, layout=layout)\n",
    "py.iplot(fig, filename = 'all total pathlength Al BSE at 70 tilt')"
   ]
  },
  {
   "cell_type": "code",
   "execution_count": 54,
   "metadata": {},
   "outputs": [
    {
     "data": {
      "text/html": [
       "<iframe id=\"igraph\" scrolling=\"no\" style=\"border:none;\" seamless=\"seamless\" src=\"https://plot.ly/~elena.pascal/2492.embed\" height=\"525px\" width=\"100%\"></iframe>"
      ],
      "text/plain": [
       "<chart_studio.tools.PlotlyDisplay object>"
      ]
     },
     "execution_count": 54,
     "metadata": {},
     "output_type": "execute_result"
    }
   ],
   "source": [
    "\n",
    "energy = BSE_discr['energy']\n",
    "trace_discr_MFP = go.Scatter(x = energy, \n",
    "                        y = BSE_discr['MFP'], \n",
    "                        mode = 'markers',\n",
    "                        marker=dict(\n",
    "                        size = 2,    \n",
    "                        color = 'rgba(127, 201, 127, .9)'),\n",
    "                        name = 'discrete',)  \n",
    "\n",
    "energy = BSE_cont['energy']\n",
    "trace_cont_MFP = go.Scatter(x = energy, \n",
    "                        y = BSE_cont['MFP'], \n",
    "                        mode = 'markers',\n",
    "                        marker=dict(\n",
    "                        size = 2,    \n",
    "                        color = 'rgba(253, 192, 134, .9)'),\n",
    "                        name = 'continuous',)  \n",
    "layout = go.Layout(\n",
    "        title = '10 keV incident electrons on a 70 degrees tilted Al sample', \n",
    "        font=dict( color='#7f7f7f'),\n",
    "        paper_bgcolor='rgba(0,0,0,0)',\n",
    "        plot_bgcolor='rgba(0,0,0,0)',\n",
    "        yaxis=dict(#type='log',\n",
    "             gridcolor= '#7f7f7f',\n",
    "             title = 'MFP per electron', \n",
    "             zerolinecolor='#969696', \n",
    "             #range=[0, 350]   \n",
    "        ), \n",
    "        xaxis=dict(\n",
    "             gridcolor= '#7f7f7f',\n",
    "             title = 'BSE energy (eV)', \n",
    "             zerolinecolor='#969696', \n",
    "             range=[25000, 30000])\n",
    "    )\n",
    "datatrace = [trace_cont_MFP, trace_discr_MFP ]\n",
    "fig = go.Figure(data=datatrace, layout=layout)\n",
    "py.iplot(fig, filename = 'MFP Al BSE at 70 tilt')"
   ]
  },
  {
   "cell_type": "code",
   "execution_count": 55,
   "metadata": {},
   "outputs": [
    {
     "data": {
      "text/html": [
       "<iframe id=\"igraph\" scrolling=\"no\" style=\"border:none;\" seamless=\"seamless\" src=\"https://plot.ly/~elena.pascal/2494.embed\" height=\"525px\" width=\"100%\"></iframe>"
      ],
      "text/plain": [
       "<chart_studio.tools.PlotlyDisplay object>"
      ]
     },
     "execution_count": 55,
     "metadata": {},
     "output_type": "execute_result"
    }
   ],
   "source": [
    "\n",
    "energy = BSE_discr['energy']\n",
    "trace_discr_MFP = go.Scatter(x = energy, \n",
    "                        y = BSE_discr['num_scatt'], \n",
    "                        mode = 'markers',\n",
    "                        marker=dict(\n",
    "                        size = 2,    \n",
    "                        color = 'rgba(127, 201, 127, .9)'),\n",
    "                        name = 'discrete times',)  \n",
    "\n",
    "energy = BSE_cont['energy']\n",
    "trace_cont_MFP = go.Scatter(x = energy, \n",
    "                        y = BSE_cont['num_scatt'], \n",
    "                        mode = 'markers',\n",
    "                        marker=dict(\n",
    "                        size = 2,    \n",
    "                        color = 'rgba(253, 192, 134, .9)'),\n",
    "                        name = 'continuous times',)  \n",
    "layout = go.Layout(\n",
    "        title = '10 keV incident electrons on a 70 degrees tilted Al sample', \n",
    "        font=dict( color='#7f7f7f'),\n",
    "        paper_bgcolor='rgba(0,0,0,0)',\n",
    "        plot_bgcolor='rgba(0,0,0,0)',\n",
    "        yaxis=dict(#type='log',\n",
    "             gridcolor= '#7f7f7f',\n",
    "             title = 'number of scatterings per electron', \n",
    "             zerolinecolor='#969696', \n",
    "             #range=[0, 350]   \n",
    "        ), \n",
    "        xaxis=dict(\n",
    "             gridcolor= '#7f7f7f',\n",
    "             title = 'BSE energy (eV)', \n",
    "             zerolinecolor='#969696', \n",
    "             range=[25000, 30000])\n",
    "    )\n",
    "datatrace = [trace_cont_MFP, trace_discr_MFP ]\n",
    "fig = go.Figure(data=datatrace, layout=layout)\n",
    "py.iplot(fig, filename = 'num scatt Al BSE at 70 tilt')"
   ]
  },
  {
   "cell_type": "code",
   "execution_count": null,
   "metadata": {},
   "outputs": [],
   "source": []
  }
 ],
 "metadata": {
  "kernelspec": {
   "display_name": "Python 2",
   "language": "python",
   "name": "python2"
  },
  "language_info": {
   "codemirror_mode": {
    "name": "ipython",
    "version": 2
   },
   "file_extension": ".py",
   "mimetype": "text/x-python",
   "name": "python",
   "nbconvert_exporter": "python",
   "pygments_lexer": "ipython2",
   "version": "2.7.15+"
  }
 },
 "nbformat": 4,
 "nbformat_minor": 2
}
