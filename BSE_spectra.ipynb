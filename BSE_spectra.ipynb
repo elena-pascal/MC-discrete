{
 "cells": [
  {
   "cell_type": "code",
   "execution_count": 2,
   "metadata": {},
   "outputs": [],
   "source": [
    "import plotly.graph_objects as go\n",
    "from matplotlib import pyplot as plt\n",
    "import numpy as np\n",
    "import pandas as pd\n",
    "import h5py"
   ]
  },
  {
   "cell_type": "code",
   "execution_count": 71,
   "metadata": {},
   "outputs": [
    {
     "name": "stdout",
     "output_type": "stream",
     "text": [
      "yield of new discretly scattered BSE 0.08758181818181818\n",
      "yield of new discretly scattered BSE 0.03421818181818182\n"
     ]
    },
    {
     "data": {
      "image/png": "[encoded data removed]",
      "text/plain": [
       "<Figure size 432x288 with 1 Axes>"
      ]
     },
     "metadata": {
      "needs_background": "light"
     },
     "output_type": "display_data"
    }
   ],
   "source": [
    "num_bins = 200\n",
    "inc_e = 55000\n",
    "\n",
    "                         \n",
    "# old\n",
    "el = pd.read_hdf('data/Al_BSE_mode:DS_tilt:0.0_tolE:0.0001_tolW:1e-07.h5', 'all_electrons')\n",
    "\n",
    "energyDS = list(el[el.values=='backscattered']['energy'])\n",
    "\n",
    "print ('yield of new discretly scattered BSE', len(energyDS)/inc_e)\n",
    "\n",
    "\n",
    "#bins_mean = [0.5 * (bins_c[i] + bins_c[i+1]) for i in range(len(n_c)-1)]\n",
    "\n",
    "n_d, bins_d, patches_d = plt.hist([float(energy) for energy in energyDS], num_bins, facecolor='blue', alpha=0.5)\n",
    "\n",
    "bins_mean = [0.5 * (bins_d[i] + bins_d[i+1]) for i in range(len(n_d)-1)]\n",
    "\n",
    "trace_discr_new = go.Scatter(x = np.asarray(bins_mean), \n",
    "                           y = n_d/inc_e, \n",
    "                          marker=dict(\n",
    "                                 color = 'rgba(10, 174, 212 .9)',),\n",
    "                          name = 'discrete new',)\n",
    "\n",
    "\n",
    "# new\n",
    "el = pd.read_hdf('data/Al_BSE_mode:DS_tilt:0.0_tolE:0.0001_tolW:1e-07_maxScat:1000.0.h5', 'electrons')\n",
    "\n",
    "energyDS = list(el[el.outcome=='backscattered']['final_E'])\n",
    "\n",
    "print ('yield of new discretly scattered BSE', len(energyDS)/inc_e)\n",
    "\n",
    "\n",
    "#bins_mean = [0.5 * (bins_c[i] + bins_c[i+1]) for i in range(len(n_c)-1)]\n",
    "\n",
    "n_d, bins_d, patches_d = plt.hist([float(energy) for energy in energyDS], num_bins, facecolor='red', alpha=0.5)\n",
    "\n",
    "bins_mean = [0.5 * (bins_d[i] + bins_d[i+1]) for i in range(len(n_d)-1)]\n",
    "\n",
    "trace_discr_new = go.Scatter(x = np.asarray(bins_mean), \n",
    "                           y = n_d/inc_e, \n",
    "                          marker=dict(\n",
    "                                 color = 'rgba(10, 174, 212 .9)',),\n",
    "                          name = 'discrete new',)"
   ]
  },
  {
   "cell_type": "code",
   "execution_count": 70,
   "metadata": {},
   "outputs": [
    {
     "data": {
      "text/plain": [
       "num_el                            500\n",
       "E0                              20000\n",
       "Emin                             5000\n",
       "material                           Al\n",
       "s_tilt                              0\n",
       "mode                               DS\n",
       "Bethe                       classical\n",
       "tol_E                          0.0001\n",
       "tol_W                           1e-07\n",
       "maxScatt                         1000\n",
       "Wc                                 10\n",
       "electron_output    [outcome, final_E]\n",
       "scatter_output       [type, az_angle]\n",
       "L                                   0\n",
       "delta                               0\n",
       "x_PC                                0\n",
       "y_PC                                0\n",
       "d_tilt                              0\n",
       "dtype: object"
      ]
     },
     "execution_count": 70,
     "metadata": {},
     "output_type": "execute_result"
    }
   ],
   "source": [
    "dataframe = pd.read_hdf('data/Al_BSE_mode:DS_tilt:0.0_tolE:0.0001_tolW:1e-07_maxScat:1000.h5', 'input')\n",
    "\n",
    "dataframe.head(100)"
   ]
  },
  {
   "cell_type": "code",
   "execution_count": 68,
   "metadata": {},
   "outputs": [
    {
     "ename": "SyntaxError",
     "evalue": "invalid syntax (<ipython-input-68-24991906b384>, line 3)",
     "output_type": "error",
     "traceback": [
      "\u001b[0;36m  File \u001b[0;32m\"<ipython-input-68-24991906b384>\"\u001b[0;36m, line \u001b[0;32m3\u001b[0m\n\u001b[0;31m    someData = {'foo':100, 'goo':230, 'coo':['chix', 'pot'], dtype=str}\u001b[0m\n\u001b[0m                                                                  ^\u001b[0m\n\u001b[0;31mSyntaxError\u001b[0m\u001b[0;31m:\u001b[0m invalid syntax\n"
     ]
    }
   ],
   "source": [
    "import pandas as pd\n",
    "\n",
    "someData = {'foo':100, 'goo':230, 'coo':['chix', 'pot'], dtype=str}\n",
    "\n",
    "df = pd.Series(someData)\n",
    "\n",
    "df"
   ]
  },
  {
   "cell_type": "code",
   "execution_count": 15,
   "metadata": {},
   "outputs": [
    {
     "name": "stdout",
     "output_type": "stream",
     "text": [
      "{'foo': [1, 2, 3], 'goo': [4, 5]}\n"
     ]
    }
   ],
   "source": []
  },
  {
   "cell_type": "code",
   "execution_count": null,
   "metadata": {},
   "outputs": [],
   "source": []
  }
 ],
 "metadata": {
  "kernelspec": {
   "display_name": "Python 3",
   "language": "python",
   "name": "python3"
  },
  "language_info": {
   "codemirror_mode": {
    "name": "ipython",
    "version": 3
   },
   "file_extension": ".py",
   "mimetype": "text/x-python",
   "name": "python",
   "nbconvert_exporter": "python",
   "pygments_lexer": "ipython3",
   "version": "3.7.3"
  }
 },
 "nbformat": 4,
 "nbformat_minor": 2
}
