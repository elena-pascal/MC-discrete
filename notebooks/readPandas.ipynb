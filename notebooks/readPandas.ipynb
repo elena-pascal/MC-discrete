{
 "cells": [
  {
   "cell_type": "code",
   "execution_count": null,
   "metadata": {},
   "outputs": [],
   "source": [
    "import numpy as np\n",
    "import h5py\n",
    "import plotly.offline as offline       # a number of plotly goodies\n",
    "import plotly.graph_objects as go\n",
    "\n",
    "\n",
    "from matplotlib import pyplot as plt\n",
    "import numpy as np\n",
    "import pandas as pd\n",
    "import h5py"
   ]
  },
  {
   "cell_type": "code",
   "execution_count": null,
   "metadata": {},
   "outputs": [],
   "source": [
    "file_discr = 'data/Al_BSE_DS_short.h5'\n",
    "\n",
    "df_discr = pd.read_hdf(file_discr, 'all_electrons')\n",
    "\n",
    "#print 'mean total length travelled by BSE', np.mean(df_discr[df_discr.values=='backscattered']['TP'])\n",
    "#print 'mean free path travelled by BSE', np.mean(df_discr[df_discr.values=='backscattered']['MFP'])\n",
    "#print 'mean number of scattering events suffered by BSE', np.mean(df_discr[df_discr.values=='backscattered']['num_scatt'])\n",
    "\n",
    "\n",
    "en_discr = df_discr[df_discr.values=='backscattered']['energy'].values.tolist()"
   ]
  },
  {
   "cell_type": "code",
   "execution_count": null,
   "metadata": {},
   "outputs": [],
   "source": [
    "file_cont = 'data/Al_BSE_cont_short.h5'\n",
    "\n",
    "df_cont = pd.read_hdf(file_cont, 'all_electrons')\n",
    "\n",
    "#print 'mean total length travelled by BSE', np.mean(df_cont[df_cont.values=='backscattered']['TP'])\n",
    "#print 'mean free path travelled by BSE', np.mean(df_cont[df_cont.values=='backscattered']['MFP'])\n",
    "#print 'mean number of scattering events suffered by BSE', np.mean(df_cont[df_cont.values=='backscattered']['num_scatt'])\n",
    "\n",
    "\n",
    "en_cont = df_cont[df_cont.values=='backscattered']['energy'].values.tolist()"
   ]
  },
  {
   "cell_type": "markdown",
   "metadata": {},
   "source": [
    "#### BSE spectra"
   ]
  },
  {
   "cell_type": "code",
   "execution_count": null,
   "metadata": {},
   "outputs": [],
   "source": [
    "num_bins = 50\n",
    "n_cont, bins_cont, patches_cont = plt.hist(en_cont, num_bins, facecolor='green', alpha=0.5)\n",
    "bins_mean = [0.5 * (bins_cont[i] + bins_cont[i+1]) for i in range(len(n_cont))]\n",
    "\n",
    "trace_cont = go.Scatter(x = bins_mean, \n",
    "                          y = n_cont, \n",
    "                          marker=dict(\n",
    "                               color = 'rgba(127, 201, 127, .9)',),\n",
    "                          name = 'continuous',)\n",
    "\n",
    "\n",
    "############\n",
    "n_discr, bins_discr, patches_discr = plt.hist(en_discr, num_bins, facecolor='orange', alpha=0.5)\n",
    "\n",
    "trace_discr = go.Scatter(x = bins_mean, \n",
    "                          y = n_discr, \n",
    "                          marker=dict(\n",
    "                               color = 'rgba(253, 192, 134, .9)',),\n",
    "                          name = 'discrete',)\n",
    "\n",
    "\n",
    "\n",
    "layout_log = go.Layout(\n",
    "        title = '10 keV incident electrons on a 70 degrees tilted Al sample', \n",
    "        font=dict( color='#7f7f7f'),\n",
    "        paper_bgcolor='rgba(0,0,0,0)',\n",
    "        plot_bgcolor='rgba(0,0,0,0)',\n",
    "        yaxis=dict(#type='log',\n",
    "             gridcolor= '#7f7f7f',\n",
    "             title = 'BSE counts per 100 eV bin (#/100 eV)', \n",
    "             zerolinecolor='#969696', \n",
    "             #range=[0, 350]   \n",
    "        ), \n",
    "        xaxis=dict(\n",
    "             gridcolor= '#7f7f7f',\n",
    "             title = 'BSE energy (eV)', \n",
    "             zerolinecolor='#969696', \n",
    "             range=[25000, 30000])\n",
    "    )\n",
    "\n",
    "\n",
    "datatrace = [trace_cont, trace_discr ]\n",
    "fig = go.Figure(data=datatrace, layout=layout_log)\n",
    "py.iplot(fig, filename = 'Al BSE per 100eV at 70 tilt')"
   ]
  },
  {
   "cell_type": "markdown",
   "metadata": {},
   "source": [
    "#### Total pathlength per energy bin"
   ]
  },
  {
   "cell_type": "code",
   "execution_count": null,
   "metadata": {},
   "outputs": [],
   "source": [
    "def pairs(lst):\n",
    "    '''for a non empty list return a tuples of pair items'''\n",
    "    i = iter(lst)\n",
    "    first = prev = item = i.next()\n",
    "    for item in i:\n",
    "        yield prev, item\n",
    "        prev = item\n",
    "    yield item, first\n",
    "    \n",
    "BSE_discr = df_discr[df_discr.values=='backscattered']   \n",
    "\n",
    "total_path = np.zeros(len(bins_cont-1))\n",
    "count = np.zeros(len(bins_cont-1))\n",
    "num_scatt = np.zeros(len(bins_cont-1))\n",
    "for  bin_number, bin_edges in enumerate(pairs(bins_cont)):    \n",
    "    BSE_discr.loc[((BSE_discr['energy'] >= bin_edges[0]) & (BSE_discr['energy']< bin_edges[1])), 'energy_bin'] = bin_number\n",
    "    if ((BSE_discr.loc[(BSE_discr['energy_bin'] == bin_number), 'TP'].values).any()):\n",
    "        total_path[bin_number] = np.mean((BSE_discr.loc[(BSE_discr['energy_bin'] == bin_number), 'TP'].values))\n",
    "        count[bin_number] = len((BSE_discr.loc[(BSE_discr['energy_bin'] == bin_number), 'TP'].values))\n",
    "        num_scatt[bin_number] = np.mean((BSE_discr.loc[(BSE_discr['energy_bin'] == bin_number), 'num_scatt'].values))\n",
    "\n",
    "t_discr_m = go.Scatter(x = bins_cont, \n",
    "                          y = total_path, \n",
    "                          marker=dict(\n",
    "                          color = 'rgba(127, 201, 127, .9)',),\n",
    "                          name = 'discrete',)\n",
    "print 'mean discrete TP', np.sum(total_path*count)/(np.sum(count))\n",
    "\n",
    "trace_discr_count = go.Scatter(x = bins_cont, \n",
    "                          y = num_scatt, \n",
    "                          marker=dict(\n",
    "                          color = 'rgba(127, 201, 127, .9)',),\n",
    "                          name = 'discrete',)\n",
    "\n",
    "#############     \n",
    "BSE_cont = df_cont[df_cont.values=='backscattered']   \n",
    "\n",
    "total_path = np.zeros(len(bins_cont-1))\n",
    "count = np.zeros(len(bins_cont-1))\n",
    "num_scatt = np.zeros(len(bins_cont-1))\n",
    "for  bin_number, bin_edges in enumerate(pairs(bins_cont)):    \n",
    "    BSE_cont.loc[((BSE_cont['energy'] >= bin_edges[0]) & (BSE_cont['energy']< bin_edges[1])), 'energy_bin'] = bin_number\n",
    "    if ((BSE_cont.loc[(BSE_cont['energy_bin'] == bin_number), 'TP'].values).any()):\n",
    "        total_path[bin_number] = np.mean((BSE_cont.loc[(BSE_cont['energy_bin'] == bin_number), 'TP'].values))\n",
    "        count[bin_number] = len((BSE_cont.loc[(BSE_cont['energy_bin'] == bin_number), 'TP'].values))\n",
    "        num_scatt[bin_number] = np.mean((BSE_cont.loc[(BSE_cont['energy_bin'] == bin_number), 'num_scatt'].values))\n",
    "\n",
    "t_cont_m = go.Scatter(x = bins_cont, \n",
    "                          y = total_path, \n",
    "                          marker=dict(\n",
    "                          color = 'rgba(253, 192, 134, .9)'),\n",
    "                          name = 'continuous',) \n",
    "\n",
    "trace_cont_count = go.Scatter(x = bins_cont, \n",
    "                          y = num_scatt, \n",
    "                          marker=dict(\n",
    "                          color = 'rgba(253, 192, 134, .9)'),\n",
    "                          name = 'continuous',)\n",
    "\n",
    "layout = go.Layout(\n",
    "        title = '10 keV incident electrons on a 70 degrees tilted Al sample', \n",
    "        font=dict( color='#7f7f7f'),\n",
    "        paper_bgcolor='rgba(0,0,0,0)',\n",
    "        plot_bgcolor='rgba(0,0,0,0)',\n",
    "        yaxis=dict(#type='log',\n",
    "             gridcolor= '#7f7f7f',\n",
    "             title = 'Mean total pathlenght counts per 100 eV bin (#/100 eV)', \n",
    "             zerolinecolor='#969696', \n",
    "             #range=[0, 350]   \n",
    "        ), \n",
    "        xaxis=dict(\n",
    "             gridcolor= '#7f7f7f',\n",
    "             title = 'BSE energy (eV)', \n",
    "             zerolinecolor='#969696', \n",
    "             range=[25000, 30000])\n",
    "    )\n",
    "print 'mean continous TP', np.sum(total_path*count)/(np.sum(count)) \n",
    "datatrace = [t_cont_m, t_discr_m ]\n",
    "fig = go.Figure(data=datatrace, layout=layout)\n",
    "py.iplot(fig, filename = 'mean total pathlength Al BSE per 100eV at 70 tilt')\n",
    "\n",
    "\n"
   ]
  },
  {
   "cell_type": "markdown",
   "metadata": {},
   "source": [
    "#### All total path lengths"
   ]
  },
  {
   "cell_type": "code",
   "execution_count": null,
   "metadata": {},
   "outputs": [],
   "source": [
    "energy = BSE_discr['energy']\n",
    "trace_discr = go.Scatter(x = energy, \n",
    "                         y = BSE_discr['TP'], \n",
    "                         mode = 'markers',\n",
    "                         marker=dict(\n",
    "                         size = 2,    \n",
    "                         color = 'rgba(127, 201, 127, .9)',),\n",
    "                         name = 'discrete',)\n",
    "\n",
    "\n",
    "\n",
    "\n",
    "energy = BSE_cont['energy']\n",
    "trace_cont = go.Scatter(x = energy, \n",
    "                        y = BSE_cont['TP'], \n",
    "                        mode = 'markers',\n",
    "                        marker=dict(\n",
    "                        size = 2,    \n",
    "                        color = 'rgba(253, 192, 134, .9)'),\n",
    "                        name = 'continuous',)  \n",
    "\n",
    "\n",
    " \n",
    "\n",
    "layout = go.Layout(\n",
    "        title = '10 keV incident electrons on a 70 degrees tilted Al sample', \n",
    "        font=dict( color='#7f7f7f'),\n",
    "        paper_bgcolor='rgba(0,0,0,0)',\n",
    "        plot_bgcolor='rgba(0,0,0,0)',\n",
    "        yaxis=dict(#type='log',\n",
    "             gridcolor= '#7f7f7f',\n",
    "             title = 'Total pathlenght per electron', \n",
    "             zerolinecolor='#969696', \n",
    "             #range=[0, 350]   \n",
    "        ), \n",
    "        xaxis=dict(\n",
    "             gridcolor= '#7f7f7f',\n",
    "             title = 'BSE energy (eV)', \n",
    "             zerolinecolor='#969696', \n",
    "             range=[25000, 30000])\n",
    "    )\n",
    "\n",
    "datatrace = [trace_cont, trace_discr, t_cont_m, t_discr_m ]\n",
    "fig = go.Figure(data=datatrace, layout=layout)\n",
    "py.iplot(fig, filename = 'all total pathlength Al BSE at 70 tilt')\n"
   ]
  },
  {
   "cell_type": "markdown",
   "metadata": {},
   "source": [
    "#### scattering counts per energy bin"
   ]
  },
  {
   "cell_type": "code",
   "execution_count": null,
   "metadata": {},
   "outputs": [],
   "source": [
    "energy = BSE_discr['energy']\n",
    "t_discr = go.Scatter(x = energy, \n",
    "                         y = BSE_discr['num_scatt'], \n",
    "                         mode = 'markers',\n",
    "                         marker=dict(\n",
    "                         size = 2,    \n",
    "                         color = 'rgba(127, 201, 127, .9)',),\n",
    "                         name = 'discrete',)\n",
    "\n",
    "\n",
    "\n",
    "\n",
    "energy = BSE_cont['energy']\n",
    "t_cont = go.Scatter(x = energy, \n",
    "                        y = BSE_cont['num_scatt'], \n",
    "                        mode = 'markers',\n",
    "                        marker=dict(\n",
    "                        size = 2,    \n",
    "                        color = 'rgba(253, 192, 134, .9)'),\n",
    "                        name = 'continuous',)  \n",
    "\n",
    "\n",
    "\n",
    "layout = go.Layout(\n",
    "        title = '10 keV incident electrons on a 70 degrees tilted Al sample', \n",
    "        font=dict( color='#7f7f7f'),\n",
    "        paper_bgcolor='rgba(0,0,0,0)',\n",
    "        plot_bgcolor='rgba(0,0,0,0)',\n",
    "        yaxis=dict(#type='log',\n",
    "             gridcolor= '#7f7f7f',\n",
    "             title = '# scaterings per energy bin', \n",
    "             zerolinecolor='#969696', \n",
    "             #range=[0, 350]   \n",
    "        ), \n",
    "        xaxis=dict(\n",
    "             gridcolor= '#7f7f7f',\n",
    "             title = 'BSE energy (eV)', \n",
    "             zerolinecolor='#969696', \n",
    "             range=[25000, 30000])\n",
    "    )\n",
    "\n",
    "datatrace = [trace_cont_count, trace_discr_count, t_discr, t_cont ]\n",
    "fig = go.Figure(data=datatrace, layout=layout)\n",
    "py.iplot(fig, filename = 'all total pathlength Al BSE at 70 tilt')"
   ]
  },
  {
   "cell_type": "code",
   "execution_count": null,
   "metadata": {},
   "outputs": [],
   "source": [
    "\n",
    "energy = BSE_discr['energy']\n",
    "trace_discr_MFP = go.Scatter(x = energy, \n",
    "                        y = BSE_discr['MFP'], \n",
    "                        mode = 'markers',\n",
    "                        marker=dict(\n",
    "                        size = 2,    \n",
    "                        color = 'rgba(127, 201, 127, .9)'),\n",
    "                        name = 'discrete',)  \n",
    "\n",
    "energy = BSE_cont['energy']\n",
    "trace_cont_MFP = go.Scatter(x = energy, \n",
    "                        y = BSE_cont['MFP'], \n",
    "                        mode = 'markers',\n",
    "                        marker=dict(\n",
    "                        size = 2,    \n",
    "                        color = 'rgba(253, 192, 134, .9)'),\n",
    "                        name = 'continuous',)  \n",
    "layout = go.Layout(\n",
    "        title = '10 keV incident electrons on a 70 degrees tilted Al sample', \n",
    "        font=dict( color='#7f7f7f'),\n",
    "        paper_bgcolor='rgba(0,0,0,0)',\n",
    "        plot_bgcolor='rgba(0,0,0,0)',\n",
    "        yaxis=dict(#type='log',\n",
    "             gridcolor= '#7f7f7f',\n",
    "             title = 'MFP per electron', \n",
    "             zerolinecolor='#969696', \n",
    "             #range=[0, 350]   \n",
    "        ), \n",
    "        xaxis=dict(\n",
    "             gridcolor= '#7f7f7f',\n",
    "             title = 'BSE energy (eV)', \n",
    "             zerolinecolor='#969696', \n",
    "             range=[25000, 30000])\n",
    "    )\n",
    "datatrace = [trace_cont_MFP, trace_discr_MFP ]\n",
    "fig = go.Figure(data=datatrace, layout=layout)\n",
    "py.iplot(fig, filename = 'MFP Al BSE at 70 tilt')"
   ]
  },
  {
   "cell_type": "code",
   "execution_count": null,
   "metadata": {},
   "outputs": [],
   "source": [
    "\n",
    "energy = BSE_discr['energy']\n",
    "trace_discr_MFP = go.Scatter(x = energy, \n",
    "                        y = BSE_discr['num_scatt'], \n",
    "                        mode = 'markers',\n",
    "                        marker=dict(\n",
    "                        size = 2,    \n",
    "                        color = 'rgba(127, 201, 127, .9)'),\n",
    "                        name = 'discrete times',)  \n",
    "\n",
    "energy = BSE_cont['energy']\n",
    "trace_cont_MFP = go.Scatter(x = energy, \n",
    "                        y = BSE_cont['num_scatt'], \n",
    "                        mode = 'markers',\n",
    "                        marker=dict(\n",
    "                        size = 2,    \n",
    "                        color = 'rgba(253, 192, 134, .9)'),\n",
    "                        name = 'continuous times',)  \n",
    "layout = go.Layout(\n",
    "        title = '10 keV incident electrons on a 70 degrees tilted Al sample', \n",
    "        font=dict( color='#7f7f7f'),\n",
    "        paper_bgcolor='rgba(0,0,0,0)',\n",
    "        plot_bgcolor='rgba(0,0,0,0)',\n",
    "        yaxis=dict(#type='log',\n",
    "             gridcolor= '#7f7f7f',\n",
    "             title = 'number of scatterings per electron', \n",
    "             zerolinecolor='#969696', \n",
    "             #range=[0, 350]   \n",
    "        ), \n",
    "        xaxis=dict(\n",
    "             gridcolor= '#7f7f7f',\n",
    "             title = 'BSE energy (eV)', \n",
    "             zerolinecolor='#969696', \n",
    "             range=[25000, 30000])\n",
    "    )\n",
    "datatrace = [trace_cont_MFP, trace_discr_MFP ]\n",
    "fig = go.Figure(data=datatrace, layout=layout)\n",
    "py.iplot(fig, filename = 'num scatt Al BSE at 70 tilt')"
   ]
  },
  {
   "cell_type": "code",
   "execution_count": null,
   "metadata": {},
   "outputs": [],
   "source": [
    "import pandas as pd\n",
    "df_energy = pd.read_hdf('Gryz0.h5', 'prob_tables')\n",
    "\n",
    "\n",
    "df_energy.head()"
   ]
  },
  {
   "cell_type": "code",
   "execution_count": null,
   "metadata": {},
   "outputs": [],
   "source": [
    "from dask import dataframe as dd"
   ]
  },
  {
   "cell_type": "code",
   "execution_count": 10,
   "metadata": {},
   "outputs": [],
   "source": [
    "df_hdf = dd.read_hdf('Gryz0.h5', 'prob_tables')"
   ]
  },
  {
   "cell_type": "code",
   "execution_count": null,
   "metadata": {},
   "outputs": [],
   "source": [
    "df_hdf.head()"
   ]
  },
  {
   "cell_type": "code",
   "execution_count": null,
   "metadata": {},
   "outputs": [],
   "source": [
    "from bisect import bisect_left as bisect\n",
    "from dask import delayed\n",
    "\n",
    "dask_bis = delayed(bisect)(df_hdf.energy_0.values, 2.08e-22)\n",
    "dask_bis.compute()\n"
   ]
  },
  {
   "cell_type": "code",
   "execution_count": null,
   "metadata": {},
   "outputs": [],
   "source": [
    "dask_bis.visualize()"
   ]
  },
  {
   "cell_type": "code",
   "execution_count": 11,
   "metadata": {},
   "outputs": [],
   "source": [
    "import os\n",
    "target = os.path.join('data', 'test.parquet')\n",
    "df_hdf.to_parquet(target, has_nulls=False)\n"
   ]
  },
  {
   "cell_type": "code",
   "execution_count": null,
   "metadata": {},
   "outputs": [],
   "source": [
    "df_p = dd.read_parquet(target)\n",
    "df_p.head()"
   ]
  },
  {
   "cell_type": "code",
   "execution_count": 5,
   "metadata": {},
   "outputs": [],
   "source": [
    "from dask import array as da\n",
    "from dask import dataframe as dd\n",
    "import os\n",
    "import numpy as np"
   ]
  },
  {
   "cell_type": "code",
   "execution_count": 41,
   "metadata": {},
   "outputs": [],
   "source": [
    "nbins = 3000\n",
    "\n",
    "Emin = 500\n",
    "Einc = 2000\n",
    "e_tables = np.linspace(Emin, Einc, nbins+1)"
   ]
  },
  {
   "cell_type": "code",
   "execution_count": 42,
   "metadata": {},
   "outputs": [],
   "source": [
    "def maxMoller(E):\n",
    "    return E*0.5\n",
    "\n",
    "fun = lambda W, e: e * W**2\n",
    "    "
   ]
  },
  {
   "cell_type": "code",
   "execution_count": 43,
   "metadata": {},
   "outputs": [
    {
     "name": "stdout",
     "output_type": "stream",
     "text": [
      "72048008\n",
      "CPU times: user 2.86 s, sys: 0 ns, total: 2.86 s\n",
      "Wall time: 2.86 s\n"
     ]
    }
   ],
   "source": [
    "from scipy.integrate import quad\n",
    "\n",
    "target = os.path.join('data', 'Moller.parquet')\n",
    "\n",
    "W_min = 0.5\n",
    "\n",
    "def get_edgePairs(inList):\n",
    "    outList = [(inList[0], inList[0])]\n",
    "    for i in range(len(inList)-1):\n",
    "        outList.append((inList[i], inList[i+1]))\n",
    "    return outList\n",
    "\n",
    "def genSeries(Ein):    \n",
    "    W_max = maxMoller(Ein)\n",
    "    w_tables = np.linspace(W_min, W_max, nbins+1)\n",
    "    \n",
    "    # integral at every step   \n",
    "    intSteps = []\n",
    "    for (Wint_min, Wint_max) in get_edgePairs(w_tables):\n",
    "        intValue, _ = quad(fun, Wint_min, Wint_max, args=(Ein,))\n",
    "        intSteps.append(intValue) \n",
    "    #cumInt_extFunc = da.cumsum(da.from_array(intSteps, chunks = 1000))        \n",
    "    cumInt_extFunc = np.cumsum(np.asarray(intSteps))        \n",
    "    return cumInt_extFunc\n",
    "\n",
    "  \n",
    "table = [genSeries(Ei) for Ei in e_tables] \n",
    "\n",
    "#stacked = da.stack(table, axis=0)\n",
    "stacked = np.stack(table, axis=0)\n",
    "#print (stacked.dask, stacked.shape)\n",
    "print (stacked.nbytes/1e9)\n",
    "#ddf = dd.concat([dd.from_array(table_i) for table_i in table], axis=1)\n",
    "# dask dataframe from dask array\n",
    "ddf = dd.io.from_array(stacked)\n",
    "\n",
    "ddf.columns = [str(e_idx) for e_idx in np.arange(nbins+1)]\n",
    "#ddf.visualize()\n",
    "\n",
    "#%prun -s tottime \n",
    "# save with fastparquet\n",
    "%time ddf.to_parquet(target, has_nulls=False, compute=True)"
   ]
  },
  {
   "cell_type": "code",
   "execution_count": 44,
   "metadata": {},
   "outputs": [
    {
     "name": "stdout",
     "output_type": "stream",
     "text": [
      "total 72060\r\n",
      "-rw-r--r-- 1 elena elena   301145 Aug 30 12:33 _common_metadata\r\n",
      "-rw-r--r-- 1 elena elena   573142 Aug 30 12:33 _metadata\r\n",
      "-rw-r--r-- 1 elena elena 72911139 Aug 30 12:33 part.0.parquet\r\n"
     ]
    }
   ],
   "source": [
    "ls -l data/Moller.parquet/"
   ]
  },
  {
   "cell_type": "code",
   "execution_count": 46,
   "metadata": {},
   "outputs": [
    {
     "name": "stdout",
     "output_type": "stream",
     "text": [
      "read\n"
     ]
    },
    {
     "data": {
      "text/html": [
       "<div>\n",
       "<style scoped>\n",
       "    .dataframe tbody tr th:only-of-type {\n",
       "        vertical-align: middle;\n",
       "    }\n",
       "\n",
       "    .dataframe tbody tr th {\n",
       "        vertical-align: top;\n",
       "    }\n",
       "\n",
       "    .dataframe thead th {\n",
       "        text-align: right;\n",
       "    }\n",
       "</style>\n",
       "<table border=\"1\" class=\"dataframe\">\n",
       "  <thead>\n",
       "    <tr style=\"text-align: right;\">\n",
       "      <th></th>\n",
       "      <th>2</th>\n",
       "    </tr>\n",
       "    <tr>\n",
       "      <th>index</th>\n",
       "      <th></th>\n",
       "    </tr>\n",
       "  </thead>\n",
       "  <tbody>\n",
       "    <tr>\n",
       "      <th>0</th>\n",
       "      <td>28.475346</td>\n",
       "    </tr>\n",
       "    <tr>\n",
       "      <th>1</th>\n",
       "      <td>28.540867</td>\n",
       "    </tr>\n",
       "    <tr>\n",
       "      <th>2</th>\n",
       "      <td>28.606481</td>\n",
       "    </tr>\n",
       "    <tr>\n",
       "      <th>3</th>\n",
       "      <td>28.672188</td>\n",
       "    </tr>\n",
       "    <tr>\n",
       "      <th>4</th>\n",
       "      <td>28.737988</td>\n",
       "    </tr>\n",
       "  </tbody>\n",
       "</table>\n",
       "</div>"
      ],
      "text/plain": [
       "               2\n",
       "index           \n",
       "0      28.475346\n",
       "1      28.540867\n",
       "2      28.606481\n",
       "3      28.672188\n",
       "4      28.737988"
      ]
     },
     "execution_count": 46,
     "metadata": {},
     "output_type": "execute_result"
    }
   ],
   "source": [
    "from fastparquet import ParquetFile\n",
    "#target = os.path.join('data', 'Moller.parquet')\n",
    "# read only one column\n",
    "pf = ParquetFile(target)\n",
    "df = pf.to_pandas(['2'])\n",
    "\n",
    "print ('read')\n",
    "df.head()"
   ]
  },
  {
   "cell_type": "code",
   "execution_count": null,
   "metadata": {},
   "outputs": [],
   "source": []
  }
 ],
 "metadata": {
  "kernelspec": {
   "display_name": "Python 3",
   "language": "python",
   "name": "python3"
  },
  "language_info": {
   "codemirror_mode": {
    "name": "ipython",
    "version": 3
   },
   "file_extension": ".py",
   "mimetype": "text/x-python",
   "name": "python",
   "nbconvert_exporter": "python",
   "pygments_lexer": "ipython3",
   "version": "3.7.3"
  }
 },
 "nbformat": 4,
 "nbformat_minor": 2
}
