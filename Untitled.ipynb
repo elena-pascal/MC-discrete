{
 "cells": [
  {
   "cell_type": "code",
   "execution_count": 1,
   "metadata": {},
   "outputs": [],
   "source": [
    "import plotly.offline as offline       # a number of plotly goodies\n",
    "import plotly.plotly as py\n",
    "import plotly.graph_objs as go"
   ]
  },
  {
   "cell_type": "code",
   "execution_count": 2,
   "metadata": {},
   "outputs": [],
   "source": [
    "file = 'BSE.out'\n",
    "\n",
    "BSE = []\n",
    "with open(file) as f:\n",
    "    lines = f.read().splitlines()\n",
    "BSE = [float(line) for line in lines]\n"
   ]
  },
  {
   "cell_type": "code",
   "execution_count": 3,
   "metadata": {},
   "outputs": [
    {
     "data": {
      "text/html": [
       "<iframe id=\"igraph\" scrolling=\"no\" style=\"border:none;\" seamless=\"seamless\" src=\"https://plot.ly/~elena.pascal/2417.embed\" height=\"525px\" width=\"100%\"></iframe>"
      ],
      "text/plain": [
       "<plotly.tools.PlotlyDisplay object>"
      ]
     },
     "execution_count": 3,
     "metadata": {},
     "output_type": "execute_result"
    }
   ],
   "source": [
    "data = [go.Histogram(x=BSE)]\n",
    "py.iplot(data, filename = 'BSE distribution test')"
   ]
  },
  {
   "cell_type": "code",
   "execution_count": 4,
   "metadata": {},
   "outputs": [
    {
     "data": {
      "text/html": [
       "<iframe id=\"igraph\" scrolling=\"no\" style=\"border:none;\" seamless=\"seamless\" src=\"https://plot.ly/~elena.pascal/2419.embed\" height=\"525px\" width=\"100%\"></iframe>"
      ],
      "text/plain": [
       "<plotly.tools.PlotlyDisplay object>"
      ]
     },
     "execution_count": 4,
     "metadata": {},
     "output_type": "execute_result"
    }
   ],
   "source": [
    "file = 'BSE_50tilt.out'\n",
    "\n",
    "BSE = []\n",
    "with open(file) as f:\n",
    "    lines = f.read().splitlines()\n",
    "BSE = [float(line) for line in lines]\n",
    "\n",
    "data = [go.Histogram(x=BSE)]\n",
    "py.iplot(data, filename = 'BSE at 0 tilt')"
   ]
  },
  {
   "cell_type": "code",
   "execution_count": 3,
   "metadata": {},
   "outputs": [
    {
     "data": {
      "text/html": [
       "<iframe id=\"igraph\" scrolling=\"no\" style=\"border:none;\" seamless=\"seamless\" src=\"https://plot.ly/~elena.pascal/2419.embed\" height=\"525px\" width=\"100%\"></iframe>"
      ],
      "text/plain": [
       "<plotly.tools.PlotlyDisplay object>"
      ]
     },
     "execution_count": 3,
     "metadata": {},
     "output_type": "execute_result"
    }
   ],
   "source": [
    "file = 'BSE_50tilt.out'\n",
    "\n",
    "BSE = []\n",
    "with open(file) as f:\n",
    "    lines = f.read().splitlines()\n",
    "BSE = [float(line) for line in lines]\n",
    "\n",
    "data = [go.Histogram(x=BSE)]\n",
    "py.iplot(data, filename = 'BSE at 0 tilt')"
   ]
  },
  {
   "cell_type": "code",
   "execution_count": 5,
   "metadata": {},
   "outputs": [],
   "source": [
    "file = 'positions_50tilt.out'\n",
    "\n",
    "num_el = 1000\n",
    "pos = []\n",
    "el = -1\n",
    "x = [[] for i in range(num_el)]\n",
    "y = [[] for i in range(num_el)]\n",
    "z = [[] for i in range(num_el)]\n",
    "\n",
    " \n",
    "with open(file) as f:\n",
    "    lines = f.read().splitlines()\n",
    "\n",
    "    for line in lines:\n",
    "        pos = ([float(i) for i in line.strip('[').strip(']').split()])\n",
    "\n",
    "        if (pos[2] == 0.0):\n",
    "            el += 1\n",
    "            x[el].append(pos[0])\n",
    "            y[el].append(pos[1])\n",
    "            z[el].append(-pos[2])\n",
    "        else:\n",
    "            x[el].append(pos[0])\n",
    "            y[el].append(pos[1])\n",
    "            z[el].append(-pos[2])\n"
   ]
  },
  {
   "cell_type": "code",
   "execution_count": 11,
   "metadata": {},
   "outputs": [
    {
     "data": {
      "text/html": [
       "<iframe id=\"igraph\" scrolling=\"no\" style=\"border:none;\" seamless=\"seamless\" src=\"https://plot.ly/~elena.pascal/2421.embed\" height=\"525px\" width=\"100%\"></iframe>"
      ],
      "text/plain": [
       "<plotly.tools.PlotlyDisplay object>"
      ]
     },
     "execution_count": 11,
     "metadata": {},
     "output_type": "execute_result"
    }
   ],
   "source": [
    "data = []\n",
    "trace = [[] for i in range(num_el)]\n",
    "for i in range(10):\n",
    "\n",
    "    trace[i] = go.Scatter(\n",
    "        x = x[i],\n",
    "        y = z[i],\n",
    "        mode = 'lines+markers', \n",
    "        name = 'electron '+str(i)\n",
    "    )\n",
    "    data.append(trace[i])\n",
    "\n",
    "layout = go.Layout(\n",
    "    title = '20 kV incident electrons on a 50 degrees tilted Al sample', \n",
    "    font=dict( color='#7f7f7f'),\n",
    "    paper_bgcolor='rgba(0,0,0,0)',\n",
    "    plot_bgcolor='rgba(0,0,0,0)',\n",
    "    yaxis=dict(\n",
    "        gridcolor= '#7f7f7f', \n",
    "        title = 'z(A)', \n",
    "        zerolinecolor='#ffffff'\n",
    "        #autorange='reversed'\n",
    "    ), \n",
    "    xaxis=dict(\n",
    "        gridcolor= '#7f7f7f',\n",
    "        title = 'x(A)', \n",
    "        zerolinecolor='#969696'\n",
    "    )\n",
    ")\n",
    "fig = go.Figure(data=data, layout=layout)\n",
    "py.iplot(fig, filename='xz_scater')"
   ]
  },
  {
   "cell_type": "code",
   "execution_count": 7,
   "metadata": {},
   "outputs": [
    {
     "data": {
      "text/html": [
       "<iframe id=\"igraph\" scrolling=\"no\" style=\"border:none;\" seamless=\"seamless\" src=\"https://plot.ly/~elena.pascal/2423.embed\" height=\"525px\" width=\"100%\"></iframe>"
      ],
      "text/plain": [
       "<plotly.tools.PlotlyDisplay object>"
      ]
     },
     "execution_count": 7,
     "metadata": {},
     "output_type": "execute_result"
    }
   ],
   "source": [
    "el = 3\n",
    "trace = go.Scatter3d(\n",
    "    x=x[el],\n",
    "    y=y[el],\n",
    "    z=z[el],\n",
    "    mode='line',\n",
    "    marker=dict(\n",
    "        color='rgb(127, 127, 127)',\n",
    "        size=8,\n",
    "        symbol='circle',\n",
    "        line=dict(\n",
    "            color='rgb(204, 204, 204)',\n",
    "            width=1\n",
    "        ),\n",
    "        opacity=0.9\n",
    "    )\n",
    ")\n",
    "\n",
    "\n",
    "layout = go.Layout(\n",
    "    margin=dict(\n",
    "        l=0,\n",
    "        r=0,\n",
    "        b=0,\n",
    "        t=0\n",
    "    )\n",
    ")\n",
    "\n",
    "data = [trace]\n",
    "\n",
    "fig = go.Figure(data=data, layout=layout)\n",
    "py.iplot(fig, filename='3d-one_electron')"
   ]
  },
  {
   "cell_type": "code",
   "execution_count": null,
   "metadata": {},
   "outputs": [],
   "source": []
  }
 ],
 "metadata": {
  "kernelspec": {
   "display_name": "Python 2",
   "language": "python",
   "name": "python2"
  },
  "language_info": {
   "codemirror_mode": {
    "name": "ipython",
    "version": 2
   },
   "file_extension": ".py",
   "mimetype": "text/x-python",
   "name": "python",
   "nbconvert_exporter": "python",
   "pygments_lexer": "ipython2",
   "version": "2.7.15rc1"
  }
 },
 "nbformat": 4,
 "nbformat_minor": 2
}
