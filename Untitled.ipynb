{
 "cells": [
  {
   "cell_type": "code",
   "execution_count": 1,
   "metadata": {},
   "outputs": [],
   "source": [
    "import plotly.offline as offline       # a number of plotly goodies\n",
    "import plotly.plotly as py\n",
    "import plotly.graph_objs as go"
   ]
  },
  {
   "cell_type": "code",
   "execution_count": 2,
   "metadata": {},
   "outputs": [],
   "source": [
    "file = 'BSE.out'\n",
    "\n",
    "BSE = []\n",
    "with open(file) as f:\n",
    "    lines = f.read().splitlines()\n",
    "BSE = [float(line) for line in lines]\n"
   ]
  },
  {
   "cell_type": "code",
   "execution_count": 3,
   "metadata": {},
   "outputs": [
    {
     "data": {
      "text/html": [
       "<iframe id=\"igraph\" scrolling=\"no\" style=\"border:none;\" seamless=\"seamless\" src=\"https://plot.ly/~elena.pascal/2417.embed\" height=\"525px\" width=\"100%\"></iframe>"
      ],
      "text/plain": [
       "<plotly.tools.PlotlyDisplay object>"
      ]
     },
     "execution_count": 3,
     "metadata": {},
     "output_type": "execute_result"
    }
   ],
   "source": [
    "data = [go.Histogram(x=BSE)]\n",
    "py.iplot(data, filename = 'BSE distribution test')"
   ]
  },
  {
   "cell_type": "code",
   "execution_count": 15,
   "metadata": {},
   "outputs": [
    {
     "data": {
      "text/html": [
       "<iframe id=\"igraph\" scrolling=\"no\" style=\"border:none;\" seamless=\"seamless\" src=\"https://plot.ly/~elena.pascal/2419.embed\" height=\"525px\" width=\"100%\"></iframe>"
      ],
      "text/plain": [
       "<plotly.tools.PlotlyDisplay object>"
      ]
     },
     "execution_count": 15,
     "metadata": {},
     "output_type": "execute_result"
    }
   ],
   "source": [
    "file = 'BSE_50tilt.out'\n",
    "\n",
    "BSE = []\n",
    "with open(file) as f:\n",
    "    lines = f.read().splitlines()\n",
    "BSE = [float(line) for line in lines]\n",
    "\n",
    "data = [go.Histogram(x=BSE)]\n",
    "py.iplot(data, filename = 'BSE at 0 tilt')"
   ]
  },
  {
   "cell_type": "code",
   "execution_count": 124,
   "metadata": {},
   "outputs": [
    {
     "data": {
      "text/html": [
       "<iframe id=\"igraph\" scrolling=\"no\" style=\"border:none;\" seamless=\"seamless\" src=\"https://plot.ly/~elena.pascal/2419.embed\" height=\"525px\" width=\"100%\"></iframe>"
      ],
      "text/plain": [
       "<plotly.tools.PlotlyDisplay object>"
      ]
     },
     "execution_count": 124,
     "metadata": {},
     "output_type": "execute_result"
    }
   ],
   "source": [
    "file = 'BSE_50tilt.out'\n",
    "\n",
    "BSE = []\n",
    "with open(file) as f:\n",
    "    lines = f.read().splitlines()\n",
    "BSE = [float(line) for line in lines]\n",
    "\n",
    "data = [go.Histogram(x=BSE)]\n",
    "py.iplot(data, filename = 'BSE at 0 tilt')"
   ]
  },
  {
   "cell_type": "code",
   "execution_count": 16,
   "metadata": {},
   "outputs": [],
   "source": [
    "file = 'positions_50tilt.out'\n",
    "\n",
    "num_el = 100\n",
    "pos = []\n",
    "el = -1\n",
    "x = [[] for i in range(num_el)]\n",
    "y = [[] for i in range(num_el)]\n",
    "z = [[] for i in range(num_el)]\n",
    "\n",
    " \n",
    "with open(file) as f:\n",
    "    lines = f.read().splitlines()\n",
    "\n",
    "    for line in lines:\n",
    "        pos = ([float(i) for i in line.strip('[').strip(']').split()])\n",
    "\n",
    "        if (pos[2] == 0.0):\n",
    "            el += 1\n",
    "            x[el].append(pos[0])\n",
    "            y[el].append(pos[1])\n",
    "            z[el].append(-pos[2])\n",
    "        else:\n",
    "            x[el].append(pos[0])\n",
    "            y[el].append(pos[1])\n",
    "            z[el].append(-pos[2])\n"
   ]
  },
  {
   "cell_type": "code",
   "execution_count": 20,
   "metadata": {},
   "outputs": [
    {
     "data": {
      "text/html": [
       "<iframe id=\"igraph\" scrolling=\"no\" style=\"border:none;\" seamless=\"seamless\" src=\"https://plot.ly/~elena.pascal/2421.embed\" height=\"525px\" width=\"100%\"></iframe>"
      ],
      "text/plain": [
       "<plotly.tools.PlotlyDisplay object>"
      ]
     },
     "execution_count": 20,
     "metadata": {},
     "output_type": "execute_result"
    }
   ],
   "source": [
    "data = []\n",
    "trace = [[] for i in range(num_el)]\n",
    "for i in range(1, 50):\n",
    "\n",
    "    trace[i] = go.Scatter(\n",
    "        x = x[i],\n",
    "        y = y[i],\n",
    "        mode = 'lines+markers', \n",
    "        name = 'electron '+str(i)\n",
    "    )\n",
    "    data.append(trace[i])\n",
    "\n",
    "layout = go.Layout(\n",
    "    title = '20 kV incident electrons on a 50 degrees tilted Al sample', \n",
    "    font=dict( color='#7f7f7f'),\n",
    "    paper_bgcolor='rgba(0,0,0,0)',\n",
    "    plot_bgcolor='rgba(0,0,0,0)',\n",
    "    yaxis=dict(\n",
    "        gridcolor= '#7f7f7f', \n",
    "        title = 'z(A)', \n",
    "        zerolinecolor='#ffffff'\n",
    "        #autorange='reversed'\n",
    "    ), \n",
    "    xaxis=dict(\n",
    "        gridcolor= '#7f7f7f',\n",
    "        title = 'x(A)', \n",
    "        zerolinecolor='#969696'\n",
    "    )\n",
    ")\n",
    "fig = go.Figure(data=data, layout=layout)\n",
    "py.iplot(fig, filename='xz_scater')"
   ]
  },
  {
   "cell_type": "code",
   "execution_count": 169,
   "metadata": {},
   "outputs": [
    {
     "data": {
      "text/html": [
       "<iframe id=\"igraph\" scrolling=\"no\" style=\"border:none;\" seamless=\"seamless\" src=\"https://plot.ly/~elena.pascal/2423.embed\" height=\"525px\" width=\"100%\"></iframe>"
      ],
      "text/plain": [
       "<plotly.tools.PlotlyDisplay object>"
      ]
     },
     "execution_count": 169,
     "metadata": {},
     "output_type": "execute_result"
    }
   ],
   "source": [
    "el = 8\n",
    "trace = go.Scatter3d(\n",
    "    x=x[el],\n",
    "    y=y[el],\n",
    "    z=z[el],\n",
    "    mode='line',\n",
    "    marker=dict(\n",
    "        color='rgb(127, 127, 127)',\n",
    "        size=3,\n",
    "        symbol='circle',\n",
    "        line=dict(\n",
    "            color='rgb(204, 204, 204)',\n",
    "            width=1\n",
    "        ),\n",
    "        opacity=0.9\n",
    "    )\n",
    ")\n",
    "\n",
    "\n",
    "layout = go.Layout(\n",
    "    margin=dict(\n",
    "        l=0,\n",
    "        r=0,\n",
    "        b=0,\n",
    "        t=0\n",
    "    )\n",
    ")\n",
    "\n",
    "data = [trace]\n",
    "\n",
    "fig = go.Figure(data=data, layout=layout)\n",
    "py.iplot(fig, filename='3d-one_electron')"
   ]
  },
  {
   "cell_type": "code",
   "execution_count": 24,
   "metadata": {},
   "outputs": [
    {
     "name": "stdout",
     "output_type": "stream",
     "text": [
      "63\n",
      "671\n"
     ]
    },
    {
     "data": {
      "text/html": [
       "<iframe id=\"igraph\" scrolling=\"no\" style=\"border:none;\" seamless=\"seamless\" src=\"https://plot.ly/~elena.pascal/2425.embed\" height=\"525px\" width=\"100%\"></iframe>"
      ],
      "text/plain": [
       "<plotly.tools.PlotlyDisplay object>"
      ]
     },
     "execution_count": 24,
     "metadata": {},
     "output_type": "execute_result"
    }
   ],
   "source": [
    "file_tR = 'thetaR_50tilt.out'\n",
    "\n",
    "thetaR = []\n",
    "with open(file_tR) as f:\n",
    "    lines = f.read().splitlines()\n",
    "thetaR = [float(line) for line in lines]\n",
    "\n",
    "\n",
    "file_tG = 'thetaG_50tilt.out'\n",
    "\n",
    "thetaG = []\n",
    "with open(file_tG) as f:\n",
    "    lines = f.read().splitlines()\n",
    "thetaG = [float(line) for line in lines]\n",
    "\n",
    "\n",
    "file_tM = 'thetaM_50tilt.out'\n",
    "\n",
    "thetaM = []\n",
    "with open(file_tM) as f:\n",
    "    lines = f.read().splitlines()\n",
    "thetaM = [float(line) for line in lines]\n",
    "\n",
    "\n",
    "file_pR = 'phiR_50tilt.out'\n",
    "\n",
    "phiR = []\n",
    "with open(file_pR) as f:\n",
    "    lines = f.read().splitlines()\n",
    "phiR = [float(line) for line in lines]\n",
    "\n",
    "\n",
    "file_pG = 'phiG_50tilt.out'\n",
    "\n",
    "phiG = []\n",
    "with open(file_pG) as f:\n",
    "    lines = f.read().splitlines()\n",
    "phiG = [float(line) for line in lines]\n",
    "\n",
    "file_pM = 'phiM_50tilt.out'\n",
    "\n",
    "phiM = []\n",
    "with open(file_pM) as f:\n",
    "    lines = f.read().splitlines()\n",
    "phiM = [float(line) for line in lines]\n",
    "\n",
    "\n",
    "\n",
    "print len(phiM)\n",
    "print len(phiG)\n",
    "data_thetaR = [go.Histogram(x = thetaR, \n",
    "                      name = 'theta Rutherford')      \n",
    "       ]\n",
    "\n",
    "data_phiR = [go.Histogram(x = phiR, \n",
    "                      name = 'phi Rutherford')      \n",
    "       ]\n",
    "        \n",
    "data_thetaG = [go.Histogram(x = thetaG, \n",
    "                     name = 'theta Gryzinski'), \n",
    "              ]\n",
    "\n",
    "\n",
    "data_phiG = [go.Histogram(x = phiG, \n",
    "                      name = 'phi Gryzinski')      \n",
    "       ]               \n",
    "               \n",
    "    \n",
    "data_thetaM = [go.Histogram(x = thetaM, \n",
    "                     name = 'theta Moller'), \n",
    "              ]\n",
    "\n",
    "\n",
    "data_phiM = [go.Histogram(x = phiM, \n",
    "                      name = 'phi Moller')      \n",
    "       ]               \n",
    "\n",
    "py.iplot(data_phiM, filename='polar angles')\n",
    "\n",
    "#print data_thetaG[0]['x']"
   ]
  },
  {
   "cell_type": "code",
   "execution_count": 13,
   "metadata": {},
   "outputs": [
    {
     "name": "stderr",
     "output_type": "stream",
     "text": [
      "/home/elena/.local/lib/python2.7/site-packages/ipykernel_launcher.py:9: RuntimeWarning:\n",
      "\n",
      "invalid value encountered in arccos\n",
      "\n"
     ]
    },
    {
     "data": {
      "text/html": [
       "<iframe id=\"igraph\" scrolling=\"no\" style=\"border:none;\" seamless=\"seamless\" src=\"https://plot.ly/~elena.pascal/2425.embed\" height=\"525px\" width=\"100%\"></iframe>"
      ],
      "text/plain": [
       "<plotly.tools.PlotlyDisplay object>"
      ]
     },
     "execution_count": 13,
     "metadata": {},
     "output_type": "execute_result"
    }
   ],
   "source": [
    "import numpy as np\n",
    "\n",
    "\n",
    "x = np.random.randn(1000)\n",
    "y = np.random.randn(1000)\n",
    "alpha =  3.4e-3*(13.**(0.67))/(20.)\n",
    "c2_halfTheta = 1. - alpha*x/(1.+alpha-y)\n",
    "\n",
    "data_thetaR = [go.Histogram(x = 2.*np.arccos(c2_halfTheta**0.5), \n",
    "                     name = 'theta R'), \n",
    "              ]\n",
    "               \n",
    "               \n",
    "py.iplot(data_phiR, filename='polar angles')"
   ]
  },
  {
   "cell_type": "code",
   "execution_count": 172,
   "metadata": {},
   "outputs": [
    {
     "ename": "AttributeError",
     "evalue": "'module' object has no attribute 'Scatterpolar'",
     "output_type": "error",
     "traceback": [
      "\u001b[0;31m---------------------------------------------------------------------------\u001b[0m",
      "\u001b[0;31mAttributeError\u001b[0m                            Traceback (most recent call last)",
      "\u001b[0;32m<ipython-input-172-060fdc416df0>\u001b[0m in \u001b[0;36m<module>\u001b[0;34m()\u001b[0m\n\u001b[1;32m      2\u001b[0m \u001b[0;34m\u001b[0m\u001b[0m\n\u001b[1;32m      3\u001b[0m data = [\n\u001b[0;32m----> 4\u001b[0;31m     go.Scatterpolar(\n\u001b[0m\u001b[1;32m      5\u001b[0m         \u001b[0mr\u001b[0m \u001b[0;34m=\u001b[0m \u001b[0mdf\u001b[0m\u001b[0;34m[\u001b[0m\u001b[0;34m'x1'\u001b[0m\u001b[0;34m]\u001b[0m\u001b[0;34m,\u001b[0m\u001b[0;34m\u001b[0m\u001b[0m\n\u001b[1;32m      6\u001b[0m         \u001b[0mtheta\u001b[0m \u001b[0;34m=\u001b[0m \u001b[0mdf\u001b[0m\u001b[0;34m[\u001b[0m\u001b[0;34m'y'\u001b[0m\u001b[0;34m]\u001b[0m\u001b[0;34m,\u001b[0m\u001b[0;34m\u001b[0m\u001b[0m\n",
      "\u001b[0;31mAttributeError\u001b[0m: 'module' object has no attribute 'Scatterpolar'"
     ]
    }
   ],
   "source": [
    "\n",
    "\n",
    "data = [\n",
    "    go.Scatterpolar(\n",
    "        r = df['x1'],\n",
    "        theta = df['y'],\n",
    "        mode = 'lines',\n",
    "        name = 'Figure8',\n",
    "        line =  dict(\n",
    "            color = 'peru'\n",
    "        )\n",
    "    ),\n",
    "    go.Scatterpolar(\n",
    "        r = df['x2'],\n",
    "        theta = df['y'],\n",
    "        mode = 'lines',\n",
    "        name = 'Cardioid',\n",
    "        line =  dict(\n",
    "            color = 'darkviolet'\n",
    "        )\n",
    "    ),\n",
    "    go.Scatterpolar(\n",
    "        r = df['x3'],\n",
    "        theta = df['y'],\n",
    "        mode = 'lines',\n",
    "        name = 'Hypercardioid',\n",
    "        line =  dict(\n",
    "            color = 'deepskyblue'\n",
    "        )\n",
    "    ),\n",
    "    go.Scatterpolar(\n",
    "        r = df['x4'],\n",
    "        theta = df['y'],\n",
    "        mode = 'lines',\n",
    "        name = 'orangered',\n",
    "        line =  dict(\n",
    "            color = 'orangered'\n",
    "        )\n",
    "    ),\n",
    "    go.Scatterpolar(\n",
    "        r = df['x5'],\n",
    "        theta = df['y'],\n",
    "        mode = 'lines',\n",
    "        name = 'Supercardioid',\n",
    "        line =  dict(\n",
    "            color = 'green'\n",
    "        )\n",
    "    )\n",
    "]\n",
    "\n",
    "layout = go.Layout(\n",
    "    title = 'Mic Patterns',\n",
    "    font = dict(\n",
    "        family = 'Arial, sans-serif;',\n",
    "        size = 12,\n",
    "        color = '#000'\n",
    "    ),\n",
    "    showlegend = False\n",
    ")\n",
    "\n",
    "fig = go.Figure(data=data, layout=layout)\n",
    "py.iplot(fig, filename = 'polar-line')"
   ]
  },
  {
   "cell_type": "code",
   "execution_count": null,
   "metadata": {},
   "outputs": [],
   "source": []
  }
 ],
 "metadata": {
  "kernelspec": {
   "display_name": "Python 2",
   "language": "python",
   "name": "python2"
  },
  "language_info": {
   "codemirror_mode": {
    "name": "ipython",
    "version": 2
   },
   "file_extension": ".py",
   "mimetype": "text/x-python",
   "name": "python",
   "nbconvert_exporter": "python",
   "pygments_lexer": "ipython2",
   "version": "2.7.15rc1"
  }
 },
 "nbformat": 4,
 "nbformat_minor": 2
}
